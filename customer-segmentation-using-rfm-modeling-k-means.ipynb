{
 "cells": [
  {
   "cell_type": "markdown",
   "id": "ffe18a2d",
   "metadata": {
    "papermill": {
     "duration": 0.053777,
     "end_time": "2022-05-26T15:24:38.867142",
     "exception": false,
     "start_time": "2022-05-26T15:24:38.813365",
     "status": "completed"
    },
    "tags": []
   },
   "source": [
    "**What is Customer Segmentation?**\n",
    "Customer segmentation is the process of dividing customers into groups based on common characteristics so companies can market to each group effectively and appropriately.\n",
    "\n",
    "**Types of Segmentation factors:**\n",
    "* Demographic (Age, Gender, Income, Location, Education, Ethnicity)\n",
    "* Psychographic (Interests, Lifestyles, Priorities, Motivation, Influence)\n",
    "* Behavioural (Purchasing habits, Spending habits, User status, Brand interactions)\n",
    "* Geographic (zip code, city, country, climate)\n",
    "\n",
    "**Why Segment Customers?**\n",
    "* Test pricing options\n",
    "* Focus on the most profitable customers\n",
    "* Increase brand awareness\n",
    "* Create and communicate targeted marketing messages\n"
   ]
  },
  {
   "cell_type": "markdown",
   "id": "fa3b51f8",
   "metadata": {
    "papermill": {
     "duration": 0.051104,
     "end_time": "2022-05-26T15:24:38.970788",
     "exception": false,
     "start_time": "2022-05-26T15:24:38.919684",
     "status": "completed"
    },
    "tags": []
   },
   "source": [
    "## Data collection and initial analysis"
   ]
  },
  {
   "cell_type": "code",
   "execution_count": 1,
   "id": "aa575f52",
   "metadata": {
    "_cell_guid": "b1076dfc-b9ad-4769-8c92-a6c4dae69d19",
    "_uuid": "8f2839f25d086af736a60e9eeb907d3b93b6e0e5",
    "execution": {
     "iopub.execute_input": "2022-05-26T15:24:39.079525Z",
     "iopub.status.busy": "2022-05-26T15:24:39.078965Z",
     "iopub.status.idle": "2022-05-26T15:24:39.094218Z",
     "shell.execute_reply": "2022-05-26T15:24:39.093613Z"
    },
    "papermill": {
     "duration": 0.072891,
     "end_time": "2022-05-26T15:24:39.096781",
     "exception": false,
     "start_time": "2022-05-26T15:24:39.023890",
     "status": "completed"
    },
    "tags": []
   },
   "outputs": [
    {
     "name": "stdout",
     "output_type": "stream",
     "text": [
      "/kaggle/input/online-retail-ii-uci/online_retail_II.csv\n"
     ]
    }
   ],
   "source": [
    "# This Python 3 environment comes with many helpful analytics libraries installed\n",
    "# It is defined by the kaggle/python Docker image: https://github.com/kaggle/docker-python\n",
    "# For example, here's several helpful packages to load\n",
    "\n",
    "import numpy as np # linear algebra\n",
    "import pandas as pd # data processing, CSV file I/O (e.g. pd.read_csv)\n",
    "\n",
    "# Input data files are available in the read-only \"../input/\" directory\n",
    "# For example, running this (by clicking run or pressing Shift+Enter) will list all files under the input directory\n",
    "\n",
    "import os\n",
    "for dirname, _, filenames in os.walk('/kaggle/input'):\n",
    "    for filename in filenames:\n",
    "        print(os.path.join(dirname, filename))\n",
    "\n",
    "# You can write up to 20GB to the current directory (/kaggle/working/) that gets preserved as output when you create a version using \"Save & Run All\" \n",
    "# You can also write temporary files to /kaggle/temp/, but they won't be saved outside of the current session"
   ]
  },
  {
   "cell_type": "code",
   "execution_count": 2,
   "id": "ad8bf61e",
   "metadata": {
    "execution": {
     "iopub.execute_input": "2022-05-26T15:24:39.201376Z",
     "iopub.status.busy": "2022-05-26T15:24:39.201100Z",
     "iopub.status.idle": "2022-05-26T15:24:40.664843Z",
     "shell.execute_reply": "2022-05-26T15:24:40.664033Z"
    },
    "papermill": {
     "duration": 1.517786,
     "end_time": "2022-05-26T15:24:40.666939",
     "exception": false,
     "start_time": "2022-05-26T15:24:39.149153",
     "status": "completed"
    },
    "tags": []
   },
   "outputs": [],
   "source": [
    "#import visualization libraries\n",
    "import matplotlib.pyplot as plt\n",
    "import seaborn as sns\n",
    "%matplotlib inline\n",
    "\n",
    "#for datetime operations\n",
    "import datetime as dt\n",
    "\n",
    "#for stats and plotting\n",
    "import scipy.stats as stat\n",
    "import pylab \n",
    "\n",
    "#for feature scaling\n",
    "from sklearn.preprocessing import StandardScaler\n",
    "\n",
    "#library for using K-Means algorithm\n",
    "from sklearn.cluster import KMeans\n",
    "\n",
    "import warnings\n",
    "warnings.filterwarnings('ignore')"
   ]
  },
  {
   "cell_type": "code",
   "execution_count": 3,
   "id": "a09fa453",
   "metadata": {
    "execution": {
     "iopub.execute_input": "2022-05-26T15:24:40.772054Z",
     "iopub.status.busy": "2022-05-26T15:24:40.771792Z",
     "iopub.status.idle": "2022-05-26T15:24:42.800130Z",
     "shell.execute_reply": "2022-05-26T15:24:42.799273Z"
    },
    "papermill": {
     "duration": 2.084151,
     "end_time": "2022-05-26T15:24:42.803083",
     "exception": false,
     "start_time": "2022-05-26T15:24:40.718932",
     "status": "completed"
    },
    "tags": []
   },
   "outputs": [
    {
     "data": {
      "text/html": [
       "<div>\n",
       "<style scoped>\n",
       "    .dataframe tbody tr th:only-of-type {\n",
       "        vertical-align: middle;\n",
       "    }\n",
       "\n",
       "    .dataframe tbody tr th {\n",
       "        vertical-align: top;\n",
       "    }\n",
       "\n",
       "    .dataframe thead th {\n",
       "        text-align: right;\n",
       "    }\n",
       "</style>\n",
       "<table border=\"1\" class=\"dataframe\">\n",
       "  <thead>\n",
       "    <tr style=\"text-align: right;\">\n",
       "      <th></th>\n",
       "      <th>Invoice</th>\n",
       "      <th>StockCode</th>\n",
       "      <th>Description</th>\n",
       "      <th>Quantity</th>\n",
       "      <th>InvoiceDate</th>\n",
       "      <th>Price</th>\n",
       "      <th>Customer ID</th>\n",
       "      <th>Country</th>\n",
       "    </tr>\n",
       "  </thead>\n",
       "  <tbody>\n",
       "    <tr>\n",
       "      <th>0</th>\n",
       "      <td>489434</td>\n",
       "      <td>85048</td>\n",
       "      <td>15CM CHRISTMAS GLASS BALL 20 LIGHTS</td>\n",
       "      <td>12</td>\n",
       "      <td>2009-12-01 07:45:00</td>\n",
       "      <td>6.95</td>\n",
       "      <td>13085.0</td>\n",
       "      <td>United Kingdom</td>\n",
       "    </tr>\n",
       "    <tr>\n",
       "      <th>1</th>\n",
       "      <td>489434</td>\n",
       "      <td>79323P</td>\n",
       "      <td>PINK CHERRY LIGHTS</td>\n",
       "      <td>12</td>\n",
       "      <td>2009-12-01 07:45:00</td>\n",
       "      <td>6.75</td>\n",
       "      <td>13085.0</td>\n",
       "      <td>United Kingdom</td>\n",
       "    </tr>\n",
       "    <tr>\n",
       "      <th>2</th>\n",
       "      <td>489434</td>\n",
       "      <td>79323W</td>\n",
       "      <td>WHITE CHERRY LIGHTS</td>\n",
       "      <td>12</td>\n",
       "      <td>2009-12-01 07:45:00</td>\n",
       "      <td>6.75</td>\n",
       "      <td>13085.0</td>\n",
       "      <td>United Kingdom</td>\n",
       "    </tr>\n",
       "    <tr>\n",
       "      <th>3</th>\n",
       "      <td>489434</td>\n",
       "      <td>22041</td>\n",
       "      <td>RECORD FRAME 7\" SINGLE SIZE</td>\n",
       "      <td>48</td>\n",
       "      <td>2009-12-01 07:45:00</td>\n",
       "      <td>2.10</td>\n",
       "      <td>13085.0</td>\n",
       "      <td>United Kingdom</td>\n",
       "    </tr>\n",
       "    <tr>\n",
       "      <th>4</th>\n",
       "      <td>489434</td>\n",
       "      <td>21232</td>\n",
       "      <td>STRAWBERRY CERAMIC TRINKET BOX</td>\n",
       "      <td>24</td>\n",
       "      <td>2009-12-01 07:45:00</td>\n",
       "      <td>1.25</td>\n",
       "      <td>13085.0</td>\n",
       "      <td>United Kingdom</td>\n",
       "    </tr>\n",
       "  </tbody>\n",
       "</table>\n",
       "</div>"
      ],
      "text/plain": [
       "  Invoice StockCode                          Description  Quantity  \\\n",
       "0  489434     85048  15CM CHRISTMAS GLASS BALL 20 LIGHTS        12   \n",
       "1  489434    79323P                   PINK CHERRY LIGHTS        12   \n",
       "2  489434    79323W                  WHITE CHERRY LIGHTS        12   \n",
       "3  489434     22041         RECORD FRAME 7\" SINGLE SIZE         48   \n",
       "4  489434     21232       STRAWBERRY CERAMIC TRINKET BOX        24   \n",
       "\n",
       "           InvoiceDate  Price  Customer ID         Country  \n",
       "0  2009-12-01 07:45:00   6.95      13085.0  United Kingdom  \n",
       "1  2009-12-01 07:45:00   6.75      13085.0  United Kingdom  \n",
       "2  2009-12-01 07:45:00   6.75      13085.0  United Kingdom  \n",
       "3  2009-12-01 07:45:00   2.10      13085.0  United Kingdom  \n",
       "4  2009-12-01 07:45:00   1.25      13085.0  United Kingdom  "
      ]
     },
     "execution_count": 3,
     "metadata": {},
     "output_type": "execute_result"
    }
   ],
   "source": [
    "#read the dataset and store it into a dataframe\n",
    "df_data = pd.read_csv('/kaggle/input/online-retail-ii-uci/online_retail_II.csv')\n",
    "df_data.head()"
   ]
  },
  {
   "cell_type": "code",
   "execution_count": 4,
   "id": "0e792171",
   "metadata": {
    "execution": {
     "iopub.execute_input": "2022-05-26T15:24:42.910259Z",
     "iopub.status.busy": "2022-05-26T15:24:42.909982Z",
     "iopub.status.idle": "2022-05-26T15:24:42.915106Z",
     "shell.execute_reply": "2022-05-26T15:24:42.914341Z"
    },
    "papermill": {
     "duration": 0.060113,
     "end_time": "2022-05-26T15:24:42.916962",
     "exception": false,
     "start_time": "2022-05-26T15:24:42.856849",
     "status": "completed"
    },
    "tags": []
   },
   "outputs": [
    {
     "data": {
      "text/plain": [
       "(1067371, 8)"
      ]
     },
     "execution_count": 4,
     "metadata": {},
     "output_type": "execute_result"
    }
   ],
   "source": [
    "#check the number of rows and columns present\n",
    "df_data.shape"
   ]
  },
  {
   "cell_type": "markdown",
   "id": "a973f25e",
   "metadata": {
    "papermill": {
     "duration": 0.052025,
     "end_time": "2022-05-26T15:24:43.020248",
     "exception": false,
     "start_time": "2022-05-26T15:24:42.968223",
     "status": "completed"
    },
    "tags": []
   },
   "source": [
    "**Observation**: Our dataset has 1067371 rows and 8 columns"
   ]
  },
  {
   "cell_type": "code",
   "execution_count": 5,
   "id": "41ef994c",
   "metadata": {
    "execution": {
     "iopub.execute_input": "2022-05-26T15:24:43.126371Z",
     "iopub.status.busy": "2022-05-26T15:24:43.125526Z",
     "iopub.status.idle": "2022-05-26T15:24:43.373049Z",
     "shell.execute_reply": "2022-05-26T15:24:43.372407Z"
    },
    "papermill": {
     "duration": 0.302273,
     "end_time": "2022-05-26T15:24:43.375319",
     "exception": false,
     "start_time": "2022-05-26T15:24:43.073046",
     "status": "completed"
    },
    "tags": []
   },
   "outputs": [
    {
     "name": "stdout",
     "output_type": "stream",
     "text": [
      "<class 'pandas.core.frame.DataFrame'>\n",
      "RangeIndex: 1067371 entries, 0 to 1067370\n",
      "Data columns (total 8 columns):\n",
      " #   Column       Non-Null Count    Dtype  \n",
      "---  ------       --------------    -----  \n",
      " 0   Invoice      1067371 non-null  object \n",
      " 1   StockCode    1067371 non-null  object \n",
      " 2   Description  1062989 non-null  object \n",
      " 3   Quantity     1067371 non-null  int64  \n",
      " 4   InvoiceDate  1067371 non-null  object \n",
      " 5   Price        1067371 non-null  float64\n",
      " 6   Customer ID  824364 non-null   float64\n",
      " 7   Country      1067371 non-null  object \n",
      "dtypes: float64(2), int64(1), object(5)\n",
      "memory usage: 65.1+ MB\n"
     ]
    }
   ],
   "source": [
    "#Check the feature datatypes\n",
    "df_data.info()"
   ]
  },
  {
   "cell_type": "markdown",
   "id": "4b9b8064",
   "metadata": {
    "papermill": {
     "duration": 0.050909,
     "end_time": "2022-05-26T15:24:43.477724",
     "exception": false,
     "start_time": "2022-05-26T15:24:43.426815",
     "status": "completed"
    },
    "tags": []
   },
   "source": [
    "**Observation**: Features having null values are - Description, Customer ID"
   ]
  },
  {
   "cell_type": "code",
   "execution_count": 6,
   "id": "33531e42",
   "metadata": {
    "execution": {
     "iopub.execute_input": "2022-05-26T15:24:43.583293Z",
     "iopub.status.busy": "2022-05-26T15:24:43.583037Z",
     "iopub.status.idle": "2022-05-26T15:24:43.815280Z",
     "shell.execute_reply": "2022-05-26T15:24:43.814545Z"
    },
    "papermill": {
     "duration": 0.287284,
     "end_time": "2022-05-26T15:24:43.817459",
     "exception": false,
     "start_time": "2022-05-26T15:24:43.530175",
     "status": "completed"
    },
    "tags": []
   },
   "outputs": [
    {
     "data": {
      "text/plain": [
       "Invoice             0\n",
       "StockCode           0\n",
       "Description      4382\n",
       "Quantity            0\n",
       "InvoiceDate         0\n",
       "Price               0\n",
       "Customer ID    243007\n",
       "Country             0\n",
       "dtype: int64"
      ]
     },
     "execution_count": 6,
     "metadata": {},
     "output_type": "execute_result"
    }
   ],
   "source": [
    "#making sure the above observation is correct\n",
    "df_data.isnull().sum()"
   ]
  },
  {
   "cell_type": "markdown",
   "id": "520dcf9d",
   "metadata": {
    "papermill": {
     "duration": 0.054285,
     "end_time": "2022-05-26T15:24:43.924386",
     "exception": false,
     "start_time": "2022-05-26T15:24:43.870101",
     "status": "completed"
    },
    "tags": []
   },
   "source": [
    "## Feature Description\n",
    "* **InvoiceNo:** Invoice number. Nominal. A 6-digit integral number uniquely assigned to each transaction. If this code starts with the letter 'c', it indicates a cancellation.\n",
    "\n",
    "* **StockCode:** Product (item) code. Nominal. A 5-digit integral number uniquely assigned to each distinct product.\n",
    "\n",
    "* **Description:** Product (item) name. Nominal.\n",
    "\n",
    "* **Quantity:** The quantities of each product (item) per transaction. Numeric.\n",
    "\n",
    "* **InvoiceDate:** Invice date and time. Numeric. The day and time when a transaction was generated.\n",
    "\n",
    "* **UnitPrice:** Unit price. Numeric. Product price per unit in sterling (Â£).\n",
    "\n",
    "* **CustomerID:** Customer number. Nominal. A 5-digit integral number uniquely assigned to each customer.\n",
    "\n",
    "* **Country:** Country name. Nominal. The name of the country where a customer resides."
   ]
  },
  {
   "cell_type": "markdown",
   "id": "040da357",
   "metadata": {
    "papermill": {
     "duration": 0.052767,
     "end_time": "2022-05-26T15:24:44.029593",
     "exception": false,
     "start_time": "2022-05-26T15:24:43.976826",
     "status": "completed"
    },
    "tags": []
   },
   "source": [
    "## Data Cleaning"
   ]
  },
  {
   "cell_type": "markdown",
   "id": "819906cb",
   "metadata": {
    "papermill": {
     "duration": 0.052796,
     "end_time": "2022-05-26T15:24:44.134973",
     "exception": false,
     "start_time": "2022-05-26T15:24:44.082177",
     "status": "completed"
    },
    "tags": []
   },
   "source": [
    "### Analyzing Country feature"
   ]
  },
  {
   "cell_type": "code",
   "execution_count": 7,
   "id": "633ed679",
   "metadata": {
    "execution": {
     "iopub.execute_input": "2022-05-26T15:24:44.242841Z",
     "iopub.status.busy": "2022-05-26T15:24:44.242187Z",
     "iopub.status.idle": "2022-05-26T15:24:44.415132Z",
     "shell.execute_reply": "2022-05-26T15:24:44.414389Z"
    },
    "papermill": {
     "duration": 0.229053,
     "end_time": "2022-05-26T15:24:44.416995",
     "exception": false,
     "start_time": "2022-05-26T15:24:44.187942",
     "status": "completed"
    },
    "tags": []
   },
   "outputs": [
    {
     "data": {
      "text/html": [
       "<div>\n",
       "<style scoped>\n",
       "    .dataframe tbody tr th:only-of-type {\n",
       "        vertical-align: middle;\n",
       "    }\n",
       "\n",
       "    .dataframe tbody tr th {\n",
       "        vertical-align: top;\n",
       "    }\n",
       "\n",
       "    .dataframe thead th {\n",
       "        text-align: right;\n",
       "    }\n",
       "</style>\n",
       "<table border=\"1\" class=\"dataframe\">\n",
       "  <thead>\n",
       "    <tr style=\"text-align: right;\">\n",
       "      <th></th>\n",
       "      <th>Country</th>\n",
       "      <th>Customer ID</th>\n",
       "    </tr>\n",
       "  </thead>\n",
       "  <tbody>\n",
       "    <tr>\n",
       "      <th>40</th>\n",
       "      <td>United Kingdom</td>\n",
       "      <td>5410</td>\n",
       "    </tr>\n",
       "    <tr>\n",
       "      <th>15</th>\n",
       "      <td>Germany</td>\n",
       "      <td>107</td>\n",
       "    </tr>\n",
       "    <tr>\n",
       "      <th>14</th>\n",
       "      <td>France</td>\n",
       "      <td>95</td>\n",
       "    </tr>\n",
       "    <tr>\n",
       "      <th>34</th>\n",
       "      <td>Spain</td>\n",
       "      <td>41</td>\n",
       "    </tr>\n",
       "    <tr>\n",
       "      <th>3</th>\n",
       "      <td>Belgium</td>\n",
       "      <td>29</td>\n",
       "    </tr>\n",
       "    <tr>\n",
       "      <th>30</th>\n",
       "      <td>Portugal</td>\n",
       "      <td>24</td>\n",
       "    </tr>\n",
       "    <tr>\n",
       "      <th>26</th>\n",
       "      <td>Netherlands</td>\n",
       "      <td>23</td>\n",
       "    </tr>\n",
       "    <tr>\n",
       "      <th>36</th>\n",
       "      <td>Switzerland</td>\n",
       "      <td>22</td>\n",
       "    </tr>\n",
       "    <tr>\n",
       "      <th>35</th>\n",
       "      <td>Sweden</td>\n",
       "      <td>19</td>\n",
       "    </tr>\n",
       "    <tr>\n",
       "      <th>20</th>\n",
       "      <td>Italy</td>\n",
       "      <td>17</td>\n",
       "    </tr>\n",
       "    <tr>\n",
       "      <th>0</th>\n",
       "      <td>Australia</td>\n",
       "      <td>15</td>\n",
       "    </tr>\n",
       "    <tr>\n",
       "      <th>13</th>\n",
       "      <td>Finland</td>\n",
       "      <td>15</td>\n",
       "    </tr>\n",
       "    <tr>\n",
       "      <th>7</th>\n",
       "      <td>Channel Islands</td>\n",
       "      <td>14</td>\n",
       "    </tr>\n",
       "    <tr>\n",
       "      <th>1</th>\n",
       "      <td>Austria</td>\n",
       "      <td>13</td>\n",
       "    </tr>\n",
       "    <tr>\n",
       "      <th>28</th>\n",
       "      <td>Norway</td>\n",
       "      <td>13</td>\n",
       "    </tr>\n",
       "    <tr>\n",
       "      <th>10</th>\n",
       "      <td>Denmark</td>\n",
       "      <td>12</td>\n",
       "    </tr>\n",
       "    <tr>\n",
       "      <th>8</th>\n",
       "      <td>Cyprus</td>\n",
       "      <td>11</td>\n",
       "    </tr>\n",
       "    <tr>\n",
       "      <th>21</th>\n",
       "      <td>Japan</td>\n",
       "      <td>10</td>\n",
       "    </tr>\n",
       "    <tr>\n",
       "      <th>38</th>\n",
       "      <td>USA</td>\n",
       "      <td>9</td>\n",
       "    </tr>\n",
       "    <tr>\n",
       "      <th>41</th>\n",
       "      <td>Unspecified</td>\n",
       "      <td>7</td>\n",
       "    </tr>\n",
       "    <tr>\n",
       "      <th>29</th>\n",
       "      <td>Poland</td>\n",
       "      <td>6</td>\n",
       "    </tr>\n",
       "    <tr>\n",
       "      <th>6</th>\n",
       "      <td>Canada</td>\n",
       "      <td>5</td>\n",
       "    </tr>\n",
       "    <tr>\n",
       "      <th>16</th>\n",
       "      <td>Greece</td>\n",
       "      <td>5</td>\n",
       "    </tr>\n",
       "    <tr>\n",
       "      <th>11</th>\n",
       "      <td>EIRE</td>\n",
       "      <td>5</td>\n",
       "    </tr>\n",
       "    <tr>\n",
       "      <th>39</th>\n",
       "      <td>United Arab Emirates</td>\n",
       "      <td>4</td>\n",
       "    </tr>\n",
       "    <tr>\n",
       "      <th>19</th>\n",
       "      <td>Israel</td>\n",
       "      <td>4</td>\n",
       "    </tr>\n",
       "    <tr>\n",
       "      <th>22</th>\n",
       "      <td>Korea</td>\n",
       "      <td>2</td>\n",
       "    </tr>\n",
       "    <tr>\n",
       "      <th>2</th>\n",
       "      <td>Bahrain</td>\n",
       "      <td>2</td>\n",
       "    </tr>\n",
       "    <tr>\n",
       "      <th>25</th>\n",
       "      <td>Malta</td>\n",
       "      <td>2</td>\n",
       "    </tr>\n",
       "    <tr>\n",
       "      <th>31</th>\n",
       "      <td>RSA</td>\n",
       "      <td>2</td>\n",
       "    </tr>\n",
       "    <tr>\n",
       "      <th>5</th>\n",
       "      <td>Brazil</td>\n",
       "      <td>2</td>\n",
       "    </tr>\n",
       "    <tr>\n",
       "      <th>18</th>\n",
       "      <td>Iceland</td>\n",
       "      <td>1</td>\n",
       "    </tr>\n",
       "    <tr>\n",
       "      <th>37</th>\n",
       "      <td>Thailand</td>\n",
       "      <td>1</td>\n",
       "    </tr>\n",
       "    <tr>\n",
       "      <th>9</th>\n",
       "      <td>Czech Republic</td>\n",
       "      <td>1</td>\n",
       "    </tr>\n",
       "    <tr>\n",
       "      <th>33</th>\n",
       "      <td>Singapore</td>\n",
       "      <td>1</td>\n",
       "    </tr>\n",
       "    <tr>\n",
       "      <th>32</th>\n",
       "      <td>Saudi Arabia</td>\n",
       "      <td>1</td>\n",
       "    </tr>\n",
       "    <tr>\n",
       "      <th>27</th>\n",
       "      <td>Nigeria</td>\n",
       "      <td>1</td>\n",
       "    </tr>\n",
       "    <tr>\n",
       "      <th>12</th>\n",
       "      <td>European Community</td>\n",
       "      <td>1</td>\n",
       "    </tr>\n",
       "    <tr>\n",
       "      <th>24</th>\n",
       "      <td>Lithuania</td>\n",
       "      <td>1</td>\n",
       "    </tr>\n",
       "    <tr>\n",
       "      <th>23</th>\n",
       "      <td>Lebanon</td>\n",
       "      <td>1</td>\n",
       "    </tr>\n",
       "    <tr>\n",
       "      <th>42</th>\n",
       "      <td>West Indies</td>\n",
       "      <td>1</td>\n",
       "    </tr>\n",
       "    <tr>\n",
       "      <th>4</th>\n",
       "      <td>Bermuda</td>\n",
       "      <td>0</td>\n",
       "    </tr>\n",
       "    <tr>\n",
       "      <th>17</th>\n",
       "      <td>Hong Kong</td>\n",
       "      <td>0</td>\n",
       "    </tr>\n",
       "  </tbody>\n",
       "</table>\n",
       "</div>"
      ],
      "text/plain": [
       "                 Country  Customer ID\n",
       "40        United Kingdom         5410\n",
       "15               Germany          107\n",
       "14                France           95\n",
       "34                 Spain           41\n",
       "3                Belgium           29\n",
       "30              Portugal           24\n",
       "26           Netherlands           23\n",
       "36           Switzerland           22\n",
       "35                Sweden           19\n",
       "20                 Italy           17\n",
       "0              Australia           15\n",
       "13               Finland           15\n",
       "7        Channel Islands           14\n",
       "1                Austria           13\n",
       "28                Norway           13\n",
       "10               Denmark           12\n",
       "8                 Cyprus           11\n",
       "21                 Japan           10\n",
       "38                   USA            9\n",
       "41           Unspecified            7\n",
       "29                Poland            6\n",
       "6                 Canada            5\n",
       "16                Greece            5\n",
       "11                  EIRE            5\n",
       "39  United Arab Emirates            4\n",
       "19                Israel            4\n",
       "22                 Korea            2\n",
       "2                Bahrain            2\n",
       "25                 Malta            2\n",
       "31                   RSA            2\n",
       "5                 Brazil            2\n",
       "18               Iceland            1\n",
       "37              Thailand            1\n",
       "9         Czech Republic            1\n",
       "33             Singapore            1\n",
       "32          Saudi Arabia            1\n",
       "27               Nigeria            1\n",
       "12    European Community            1\n",
       "24             Lithuania            1\n",
       "23               Lebanon            1\n",
       "42           West Indies            1\n",
       "4                Bermuda            0\n",
       "17             Hong Kong            0"
      ]
     },
     "execution_count": 7,
     "metadata": {},
     "output_type": "execute_result"
    }
   ],
   "source": [
    "cust_country = df_data[['Country', 'Customer ID']].drop_duplicates()\n",
    "cust_country.groupby(['Country'])['Customer ID'].aggregate('count').reset_index().sort_values('Customer ID', ascending=False)\n",
    "#df_data.groupby(['Country'])['Customer ID'].head()"
   ]
  },
  {
   "cell_type": "markdown",
   "id": "9c1db8ba",
   "metadata": {
    "execution": {
     "iopub.execute_input": "2022-05-26T07:31:59.564449Z",
     "iopub.status.busy": "2022-05-26T07:31:59.564129Z",
     "iopub.status.idle": "2022-05-26T07:31:59.571851Z",
     "shell.execute_reply": "2022-05-26T07:31:59.570326Z",
     "shell.execute_reply.started": "2022-05-26T07:31:59.564416Z"
    },
    "papermill": {
     "duration": 0.052239,
     "end_time": "2022-05-26T15:24:44.522355",
     "exception": false,
     "start_time": "2022-05-26T15:24:44.470116",
     "status": "completed"
    },
    "tags": []
   },
   "source": [
    "**Observation:** Most number of customer's belong from UK.\n",
    "So we will only customer the customer's from United Kingdom for our analysis"
   ]
  },
  {
   "cell_type": "code",
   "execution_count": 8,
   "id": "3aec70e0",
   "metadata": {
    "execution": {
     "iopub.execute_input": "2022-05-26T15:24:44.629949Z",
     "iopub.status.busy": "2022-05-26T15:24:44.628939Z",
     "iopub.status.idle": "2022-05-26T15:24:44.841409Z",
     "shell.execute_reply": "2022-05-26T15:24:44.840669Z"
    },
    "papermill": {
     "duration": 0.268603,
     "end_time": "2022-05-26T15:24:44.843591",
     "exception": false,
     "start_time": "2022-05-26T15:24:44.574988",
     "status": "completed"
    },
    "tags": []
   },
   "outputs": [],
   "source": [
    "#keep only UK customer data\n",
    "df_data = df_data.query(\"Country== 'United Kingdom'\").reset_index(drop=True)"
   ]
  },
  {
   "cell_type": "markdown",
   "id": "08a36404",
   "metadata": {
    "papermill": {
     "duration": 0.052725,
     "end_time": "2022-05-26T15:24:44.949333",
     "exception": false,
     "start_time": "2022-05-26T15:24:44.896608",
     "status": "completed"
    },
    "tags": []
   },
   "source": [
    "### Analyzing Customer ID feature"
   ]
  },
  {
   "cell_type": "code",
   "execution_count": 9,
   "id": "192cb3d3",
   "metadata": {
    "execution": {
     "iopub.execute_input": "2022-05-26T15:24:45.057965Z",
     "iopub.status.busy": "2022-05-26T15:24:45.057170Z",
     "iopub.status.idle": "2022-05-26T15:24:45.065006Z",
     "shell.execute_reply": "2022-05-26T15:24:45.063971Z"
    },
    "papermill": {
     "duration": 0.064016,
     "end_time": "2022-05-26T15:24:45.067323",
     "exception": false,
     "start_time": "2022-05-26T15:24:45.003307",
     "status": "completed"
    },
    "tags": []
   },
   "outputs": [
    {
     "name": "stdout",
     "output_type": "stream",
     "text": [
      "Number of customers having no ID:  240029\n"
     ]
    }
   ],
   "source": [
    "#From the df_info() command we can see that the 'Customer ID' feature has some null values\n",
    "print('Number of customers having no ID: ',df_data['Customer ID'].isnull().sum())"
   ]
  },
  {
   "cell_type": "code",
   "execution_count": 10,
   "id": "31fe3f3d",
   "metadata": {
    "execution": {
     "iopub.execute_input": "2022-05-26T15:24:45.175910Z",
     "iopub.status.busy": "2022-05-26T15:24:45.175080Z",
     "iopub.status.idle": "2022-05-26T15:24:45.243593Z",
     "shell.execute_reply": "2022-05-26T15:24:45.242880Z"
    },
    "papermill": {
     "duration": 0.124617,
     "end_time": "2022-05-26T15:24:45.245615",
     "exception": false,
     "start_time": "2022-05-26T15:24:45.120998",
     "status": "completed"
    },
    "tags": []
   },
   "outputs": [],
   "source": [
    "#Ignore the transactions where there is no Customer ID\n",
    "df_data = df_data[df_data['Customer ID'].notna()==True]"
   ]
  },
  {
   "cell_type": "markdown",
   "id": "977287db",
   "metadata": {
    "papermill": {
     "duration": 0.052984,
     "end_time": "2022-05-26T15:24:45.351370",
     "exception": false,
     "start_time": "2022-05-26T15:24:45.298386",
     "status": "completed"
    },
    "tags": []
   },
   "source": [
    "### Analyzing Price feature"
   ]
  },
  {
   "cell_type": "code",
   "execution_count": 11,
   "id": "2fb0214a",
   "metadata": {
    "execution": {
     "iopub.execute_input": "2022-05-26T15:24:45.458631Z",
     "iopub.status.busy": "2022-05-26T15:24:45.458352Z",
     "iopub.status.idle": "2022-05-26T15:24:45.472681Z",
     "shell.execute_reply": "2022-05-26T15:24:45.471860Z"
    },
    "papermill": {
     "duration": 0.070537,
     "end_time": "2022-05-26T15:24:45.474692",
     "exception": false,
     "start_time": "2022-05-26T15:24:45.404155",
     "status": "completed"
    },
    "tags": []
   },
   "outputs": [
    {
     "data": {
      "text/html": [
       "<div>\n",
       "<style scoped>\n",
       "    .dataframe tbody tr th:only-of-type {\n",
       "        vertical-align: middle;\n",
       "    }\n",
       "\n",
       "    .dataframe tbody tr th {\n",
       "        vertical-align: top;\n",
       "    }\n",
       "\n",
       "    .dataframe thead th {\n",
       "        text-align: right;\n",
       "    }\n",
       "</style>\n",
       "<table border=\"1\" class=\"dataframe\">\n",
       "  <thead>\n",
       "    <tr style=\"text-align: right;\">\n",
       "      <th></th>\n",
       "      <th>Invoice</th>\n",
       "      <th>StockCode</th>\n",
       "      <th>Description</th>\n",
       "      <th>Quantity</th>\n",
       "      <th>InvoiceDate</th>\n",
       "      <th>Price</th>\n",
       "      <th>Customer ID</th>\n",
       "      <th>Country</th>\n",
       "    </tr>\n",
       "  </thead>\n",
       "  <tbody>\n",
       "    <tr>\n",
       "      <th>4399</th>\n",
       "      <td>489825</td>\n",
       "      <td>22076</td>\n",
       "      <td>6 RIBBONS EMPIRE</td>\n",
       "      <td>12</td>\n",
       "      <td>2009-12-02 13:34:00</td>\n",
       "      <td>0.0</td>\n",
       "      <td>16126.0</td>\n",
       "      <td>United Kingdom</td>\n",
       "    </tr>\n",
       "    <tr>\n",
       "      <th>6424</th>\n",
       "      <td>489998</td>\n",
       "      <td>48185</td>\n",
       "      <td>DOOR MAT FAIRY CAKE</td>\n",
       "      <td>2</td>\n",
       "      <td>2009-12-03 11:19:00</td>\n",
       "      <td>0.0</td>\n",
       "      <td>15658.0</td>\n",
       "      <td>United Kingdom</td>\n",
       "    </tr>\n",
       "    <tr>\n",
       "      <th>15306</th>\n",
       "      <td>490727</td>\n",
       "      <td>M</td>\n",
       "      <td>Manual</td>\n",
       "      <td>1</td>\n",
       "      <td>2009-12-07 16:38:00</td>\n",
       "      <td>0.0</td>\n",
       "      <td>17231.0</td>\n",
       "      <td>United Kingdom</td>\n",
       "    </tr>\n",
       "    <tr>\n",
       "      <th>17855</th>\n",
       "      <td>490961</td>\n",
       "      <td>22065</td>\n",
       "      <td>CHRISTMAS PUDDING TRINKET POT</td>\n",
       "      <td>1</td>\n",
       "      <td>2009-12-08 15:25:00</td>\n",
       "      <td>0.0</td>\n",
       "      <td>14108.0</td>\n",
       "      <td>United Kingdom</td>\n",
       "    </tr>\n",
       "    <tr>\n",
       "      <th>17856</th>\n",
       "      <td>490961</td>\n",
       "      <td>22142</td>\n",
       "      <td>CHRISTMAS CRAFT WHITE FAIRY</td>\n",
       "      <td>12</td>\n",
       "      <td>2009-12-08 15:25:00</td>\n",
       "      <td>0.0</td>\n",
       "      <td>14108.0</td>\n",
       "      <td>United Kingdom</td>\n",
       "    </tr>\n",
       "  </tbody>\n",
       "</table>\n",
       "</div>"
      ],
      "text/plain": [
       "      Invoice StockCode                     Description  Quantity  \\\n",
       "4399   489825     22076              6 RIBBONS EMPIRE          12   \n",
       "6424   489998     48185             DOOR MAT FAIRY CAKE         2   \n",
       "15306  490727         M                          Manual         1   \n",
       "17855  490961     22065  CHRISTMAS PUDDING TRINKET POT          1   \n",
       "17856  490961     22142    CHRISTMAS CRAFT WHITE FAIRY         12   \n",
       "\n",
       "               InvoiceDate  Price  Customer ID         Country  \n",
       "4399   2009-12-02 13:34:00    0.0      16126.0  United Kingdom  \n",
       "6424   2009-12-03 11:19:00    0.0      15658.0  United Kingdom  \n",
       "15306  2009-12-07 16:38:00    0.0      17231.0  United Kingdom  \n",
       "17855  2009-12-08 15:25:00    0.0      14108.0  United Kingdom  \n",
       "17856  2009-12-08 15:25:00    0.0      14108.0  United Kingdom  "
      ]
     },
     "execution_count": 11,
     "metadata": {},
     "output_type": "execute_result"
    }
   ],
   "source": [
    "#As per our understanding, the Price feature does not contain any NULL values\n",
    "#Check if there is any record with Price = 0\n",
    "df_data[df_data['Price']==0].head()"
   ]
  },
  {
   "cell_type": "markdown",
   "id": "af46dfc2",
   "metadata": {
    "papermill": {
     "duration": 0.053671,
     "end_time": "2022-05-26T15:24:45.582353",
     "exception": false,
     "start_time": "2022-05-26T15:24:45.528682",
     "status": "completed"
    },
    "tags": []
   },
   "source": [
    "**Observation**: From the above table we can see that there are many records where the Price is 0 value. This can be treated as NULL "
   ]
  },
  {
   "cell_type": "code",
   "execution_count": 12,
   "id": "21f74dc2",
   "metadata": {
    "execution": {
     "iopub.execute_input": "2022-05-26T15:24:45.692218Z",
     "iopub.status.busy": "2022-05-26T15:24:45.691401Z",
     "iopub.status.idle": "2022-05-26T15:24:45.701021Z",
     "shell.execute_reply": "2022-05-26T15:24:45.700211Z"
    },
    "papermill": {
     "duration": 0.066415,
     "end_time": "2022-05-26T15:24:45.702607",
     "exception": false,
     "start_time": "2022-05-26T15:24:45.636192",
     "status": "completed"
    },
    "tags": []
   },
   "outputs": [
    {
     "data": {
      "text/html": [
       "<div>\n",
       "<style scoped>\n",
       "    .dataframe tbody tr th:only-of-type {\n",
       "        vertical-align: middle;\n",
       "    }\n",
       "\n",
       "    .dataframe tbody tr th {\n",
       "        vertical-align: top;\n",
       "    }\n",
       "\n",
       "    .dataframe thead th {\n",
       "        text-align: right;\n",
       "    }\n",
       "</style>\n",
       "<table border=\"1\" class=\"dataframe\">\n",
       "  <thead>\n",
       "    <tr style=\"text-align: right;\">\n",
       "      <th></th>\n",
       "      <th>Invoice</th>\n",
       "      <th>StockCode</th>\n",
       "      <th>Description</th>\n",
       "      <th>Quantity</th>\n",
       "      <th>InvoiceDate</th>\n",
       "      <th>Price</th>\n",
       "      <th>Customer ID</th>\n",
       "      <th>Country</th>\n",
       "    </tr>\n",
       "  </thead>\n",
       "  <tbody>\n",
       "  </tbody>\n",
       "</table>\n",
       "</div>"
      ],
      "text/plain": [
       "Empty DataFrame\n",
       "Columns: [Invoice, StockCode, Description, Quantity, InvoiceDate, Price, Customer ID, Country]\n",
       "Index: []"
      ]
     },
     "execution_count": 12,
     "metadata": {},
     "output_type": "execute_result"
    }
   ],
   "source": [
    "#Check if there are any negative values in Price\n",
    "df_data[df_data['Price']<0]"
   ]
  },
  {
   "cell_type": "code",
   "execution_count": 13,
   "id": "f064be9e",
   "metadata": {
    "execution": {
     "iopub.execute_input": "2022-05-26T15:24:45.813947Z",
     "iopub.status.busy": "2022-05-26T15:24:45.813408Z",
     "iopub.status.idle": "2022-05-26T15:24:45.913339Z",
     "shell.execute_reply": "2022-05-26T15:24:45.912269Z"
    },
    "papermill": {
     "duration": 0.157706,
     "end_time": "2022-05-26T15:24:45.915713",
     "exception": false,
     "start_time": "2022-05-26T15:24:45.758007",
     "status": "completed"
    },
    "tags": []
   },
   "outputs": [],
   "source": [
    "#We will drop the records who have Price as 0\n",
    "index_name = df_data[(df_data['Price']==0)].index\n",
    "df_data.drop(index_name, inplace = True)"
   ]
  },
  {
   "cell_type": "markdown",
   "id": "309f238c",
   "metadata": {
    "papermill": {
     "duration": 0.053749,
     "end_time": "2022-05-26T15:24:46.024689",
     "exception": false,
     "start_time": "2022-05-26T15:24:45.970940",
     "status": "completed"
    },
    "tags": []
   },
   "source": [
    "### Analyzing the InvoiceDate feature"
   ]
  },
  {
   "cell_type": "code",
   "execution_count": 14,
   "id": "4c3afe18",
   "metadata": {
    "execution": {
     "iopub.execute_input": "2022-05-26T15:24:46.134954Z",
     "iopub.status.busy": "2022-05-26T15:24:46.134627Z",
     "iopub.status.idle": "2022-05-26T15:24:46.187577Z",
     "shell.execute_reply": "2022-05-26T15:24:46.187005Z"
    },
    "papermill": {
     "duration": 0.109985,
     "end_time": "2022-05-26T15:24:46.189369",
     "exception": false,
     "start_time": "2022-05-26T15:24:46.079384",
     "status": "completed"
    },
    "tags": []
   },
   "outputs": [
    {
     "data": {
      "text/plain": [
       "'2009-12-01 07:45:00'"
      ]
     },
     "execution_count": 14,
     "metadata": {},
     "output_type": "execute_result"
    }
   ],
   "source": [
    "#data start\n",
    "df_data['InvoiceDate'].min()"
   ]
  },
  {
   "cell_type": "code",
   "execution_count": 15,
   "id": "3ee9565b",
   "metadata": {
    "execution": {
     "iopub.execute_input": "2022-05-26T15:24:46.300199Z",
     "iopub.status.busy": "2022-05-26T15:24:46.299667Z",
     "iopub.status.idle": "2022-05-26T15:24:46.347982Z",
     "shell.execute_reply": "2022-05-26T15:24:46.347121Z"
    },
    "papermill": {
     "duration": 0.105864,
     "end_time": "2022-05-26T15:24:46.349902",
     "exception": false,
     "start_time": "2022-05-26T15:24:46.244038",
     "status": "completed"
    },
    "tags": []
   },
   "outputs": [
    {
     "data": {
      "text/plain": [
       "'2011-12-09 12:49:00'"
      ]
     },
     "execution_count": 15,
     "metadata": {},
     "output_type": "execute_result"
    }
   ],
   "source": [
    "#data stop\n",
    "df_data['InvoiceDate'].max()"
   ]
  },
  {
   "cell_type": "markdown",
   "id": "58c6a398",
   "metadata": {
    "papermill": {
     "duration": 0.054212,
     "end_time": "2022-05-26T15:24:46.458414",
     "exception": false,
     "start_time": "2022-05-26T15:24:46.404202",
     "status": "completed"
    },
    "tags": []
   },
   "source": [
    "**Observation:** The dataset has records from 2009/12/01 to 2011/12/09"
   ]
  },
  {
   "cell_type": "markdown",
   "id": "aac87445",
   "metadata": {
    "papermill": {
     "duration": 0.054007,
     "end_time": "2022-05-26T15:24:46.567382",
     "exception": false,
     "start_time": "2022-05-26T15:24:46.513375",
     "status": "completed"
    },
    "tags": []
   },
   "source": [
    "### Analyzing the Quantity feature"
   ]
  },
  {
   "cell_type": "code",
   "execution_count": 16,
   "id": "be96ebe1",
   "metadata": {
    "execution": {
     "iopub.execute_input": "2022-05-26T15:24:46.678333Z",
     "iopub.status.busy": "2022-05-26T15:24:46.677810Z",
     "iopub.status.idle": "2022-05-26T15:24:46.686876Z",
     "shell.execute_reply": "2022-05-26T15:24:46.686149Z"
    },
    "papermill": {
     "duration": 0.06622,
     "end_time": "2022-05-26T15:24:46.688526",
     "exception": false,
     "start_time": "2022-05-26T15:24:46.622306",
     "status": "completed"
    },
    "tags": []
   },
   "outputs": [
    {
     "data": {
      "text/html": [
       "<div>\n",
       "<style scoped>\n",
       "    .dataframe tbody tr th:only-of-type {\n",
       "        vertical-align: middle;\n",
       "    }\n",
       "\n",
       "    .dataframe tbody tr th {\n",
       "        vertical-align: top;\n",
       "    }\n",
       "\n",
       "    .dataframe thead th {\n",
       "        text-align: right;\n",
       "    }\n",
       "</style>\n",
       "<table border=\"1\" class=\"dataframe\">\n",
       "  <thead>\n",
       "    <tr style=\"text-align: right;\">\n",
       "      <th></th>\n",
       "      <th>Invoice</th>\n",
       "      <th>StockCode</th>\n",
       "      <th>Description</th>\n",
       "      <th>Quantity</th>\n",
       "      <th>InvoiceDate</th>\n",
       "      <th>Price</th>\n",
       "      <th>Customer ID</th>\n",
       "      <th>Country</th>\n",
       "    </tr>\n",
       "  </thead>\n",
       "  <tbody>\n",
       "  </tbody>\n",
       "</table>\n",
       "</div>"
      ],
      "text/plain": [
       "Empty DataFrame\n",
       "Columns: [Invoice, StockCode, Description, Quantity, InvoiceDate, Price, Customer ID, Country]\n",
       "Index: []"
      ]
     },
     "execution_count": 16,
     "metadata": {},
     "output_type": "execute_result"
    }
   ],
   "source": [
    "#Check if there are any values as 0\n",
    "df_data[df_data['Quantity']==0]"
   ]
  },
  {
   "cell_type": "code",
   "execution_count": 17,
   "id": "34bfa085",
   "metadata": {
    "execution": {
     "iopub.execute_input": "2022-05-26T15:24:46.802120Z",
     "iopub.status.busy": "2022-05-26T15:24:46.801627Z",
     "iopub.status.idle": "2022-05-26T15:24:46.824005Z",
     "shell.execute_reply": "2022-05-26T15:24:46.823468Z"
    },
    "papermill": {
     "duration": 0.080935,
     "end_time": "2022-05-26T15:24:46.825682",
     "exception": false,
     "start_time": "2022-05-26T15:24:46.744747",
     "status": "completed"
    },
    "tags": []
   },
   "outputs": [
    {
     "data": {
      "text/html": [
       "<div>\n",
       "<style scoped>\n",
       "    .dataframe tbody tr th:only-of-type {\n",
       "        vertical-align: middle;\n",
       "    }\n",
       "\n",
       "    .dataframe tbody tr th {\n",
       "        vertical-align: top;\n",
       "    }\n",
       "\n",
       "    .dataframe thead th {\n",
       "        text-align: right;\n",
       "    }\n",
       "</style>\n",
       "<table border=\"1\" class=\"dataframe\">\n",
       "  <thead>\n",
       "    <tr style=\"text-align: right;\">\n",
       "      <th></th>\n",
       "      <th>Invoice</th>\n",
       "      <th>StockCode</th>\n",
       "      <th>Description</th>\n",
       "      <th>Quantity</th>\n",
       "      <th>InvoiceDate</th>\n",
       "      <th>Price</th>\n",
       "      <th>Customer ID</th>\n",
       "      <th>Country</th>\n",
       "    </tr>\n",
       "  </thead>\n",
       "  <tbody>\n",
       "    <tr>\n",
       "      <th>157</th>\n",
       "      <td>C489459</td>\n",
       "      <td>90200A</td>\n",
       "      <td>PURPLE SWEETHEART BRACELET</td>\n",
       "      <td>-3</td>\n",
       "      <td>2009-12-01 10:44:00</td>\n",
       "      <td>4.25</td>\n",
       "      <td>17592.0</td>\n",
       "      <td>United Kingdom</td>\n",
       "    </tr>\n",
       "    <tr>\n",
       "      <th>158</th>\n",
       "      <td>C489459</td>\n",
       "      <td>90200D</td>\n",
       "      <td>PINK SWEETHEART BRACELET</td>\n",
       "      <td>-3</td>\n",
       "      <td>2009-12-01 10:44:00</td>\n",
       "      <td>4.25</td>\n",
       "      <td>17592.0</td>\n",
       "      <td>United Kingdom</td>\n",
       "    </tr>\n",
       "    <tr>\n",
       "      <th>159</th>\n",
       "      <td>C489459</td>\n",
       "      <td>90200B</td>\n",
       "      <td>BLACK SWEETHEART BRACELET</td>\n",
       "      <td>-3</td>\n",
       "      <td>2009-12-01 10:44:00</td>\n",
       "      <td>4.25</td>\n",
       "      <td>17592.0</td>\n",
       "      <td>United Kingdom</td>\n",
       "    </tr>\n",
       "    <tr>\n",
       "      <th>160</th>\n",
       "      <td>C489459</td>\n",
       "      <td>90200E</td>\n",
       "      <td>GREEN SWEETHEART BRACELET</td>\n",
       "      <td>-3</td>\n",
       "      <td>2009-12-01 10:44:00</td>\n",
       "      <td>4.25</td>\n",
       "      <td>17592.0</td>\n",
       "      <td>United Kingdom</td>\n",
       "    </tr>\n",
       "    <tr>\n",
       "      <th>161</th>\n",
       "      <td>C489459</td>\n",
       "      <td>90200C</td>\n",
       "      <td>BLUE SWEETHEART BRACELET</td>\n",
       "      <td>-3</td>\n",
       "      <td>2009-12-01 10:44:00</td>\n",
       "      <td>4.25</td>\n",
       "      <td>17592.0</td>\n",
       "      <td>United Kingdom</td>\n",
       "    </tr>\n",
       "    <tr>\n",
       "      <th>...</th>\n",
       "      <td>...</td>\n",
       "      <td>...</td>\n",
       "      <td>...</td>\n",
       "      <td>...</td>\n",
       "      <td>...</td>\n",
       "      <td>...</td>\n",
       "      <td>...</td>\n",
       "      <td>...</td>\n",
       "    </tr>\n",
       "    <tr>\n",
       "      <th>979985</th>\n",
       "      <td>C581490</td>\n",
       "      <td>23144</td>\n",
       "      <td>ZINC T-LIGHT HOLDER STARS SMALL</td>\n",
       "      <td>-11</td>\n",
       "      <td>2011-12-09 09:57:00</td>\n",
       "      <td>0.83</td>\n",
       "      <td>14397.0</td>\n",
       "      <td>United Kingdom</td>\n",
       "    </tr>\n",
       "    <tr>\n",
       "      <th>981041</th>\n",
       "      <td>C581499</td>\n",
       "      <td>M</td>\n",
       "      <td>Manual</td>\n",
       "      <td>-1</td>\n",
       "      <td>2011-12-09 10:28:00</td>\n",
       "      <td>224.69</td>\n",
       "      <td>15498.0</td>\n",
       "      <td>United Kingdom</td>\n",
       "    </tr>\n",
       "    <tr>\n",
       "      <th>981215</th>\n",
       "      <td>C581568</td>\n",
       "      <td>21258</td>\n",
       "      <td>VICTORIAN SEWING BOX LARGE</td>\n",
       "      <td>-5</td>\n",
       "      <td>2011-12-09 11:57:00</td>\n",
       "      <td>10.95</td>\n",
       "      <td>15311.0</td>\n",
       "      <td>United Kingdom</td>\n",
       "    </tr>\n",
       "    <tr>\n",
       "      <th>981216</th>\n",
       "      <td>C581569</td>\n",
       "      <td>84978</td>\n",
       "      <td>HANGING HEART JAR T-LIGHT HOLDER</td>\n",
       "      <td>-1</td>\n",
       "      <td>2011-12-09 11:58:00</td>\n",
       "      <td>1.25</td>\n",
       "      <td>17315.0</td>\n",
       "      <td>United Kingdom</td>\n",
       "    </tr>\n",
       "    <tr>\n",
       "      <th>981217</th>\n",
       "      <td>C581569</td>\n",
       "      <td>20979</td>\n",
       "      <td>36 PENCILS TUBE RED RETROSPOT</td>\n",
       "      <td>-5</td>\n",
       "      <td>2011-12-09 11:58:00</td>\n",
       "      <td>1.25</td>\n",
       "      <td>17315.0</td>\n",
       "      <td>United Kingdom</td>\n",
       "    </tr>\n",
       "  </tbody>\n",
       "</table>\n",
       "<p>16005 rows × 8 columns</p>\n",
       "</div>"
      ],
      "text/plain": [
       "        Invoice StockCode                       Description  Quantity  \\\n",
       "157     C489459    90200A        PURPLE SWEETHEART BRACELET        -3   \n",
       "158     C489459    90200D          PINK SWEETHEART BRACELET        -3   \n",
       "159     C489459    90200B         BLACK SWEETHEART BRACELET        -3   \n",
       "160     C489459    90200E         GREEN SWEETHEART BRACELET        -3   \n",
       "161     C489459    90200C          BLUE SWEETHEART BRACELET        -3   \n",
       "...         ...       ...                               ...       ...   \n",
       "979985  C581490     23144   ZINC T-LIGHT HOLDER STARS SMALL       -11   \n",
       "981041  C581499         M                            Manual        -1   \n",
       "981215  C581568     21258        VICTORIAN SEWING BOX LARGE        -5   \n",
       "981216  C581569     84978  HANGING HEART JAR T-LIGHT HOLDER        -1   \n",
       "981217  C581569     20979     36 PENCILS TUBE RED RETROSPOT        -5   \n",
       "\n",
       "                InvoiceDate   Price  Customer ID         Country  \n",
       "157     2009-12-01 10:44:00    4.25      17592.0  United Kingdom  \n",
       "158     2009-12-01 10:44:00    4.25      17592.0  United Kingdom  \n",
       "159     2009-12-01 10:44:00    4.25      17592.0  United Kingdom  \n",
       "160     2009-12-01 10:44:00    4.25      17592.0  United Kingdom  \n",
       "161     2009-12-01 10:44:00    4.25      17592.0  United Kingdom  \n",
       "...                     ...     ...          ...             ...  \n",
       "979985  2011-12-09 09:57:00    0.83      14397.0  United Kingdom  \n",
       "981041  2011-12-09 10:28:00  224.69      15498.0  United Kingdom  \n",
       "981215  2011-12-09 11:57:00   10.95      15311.0  United Kingdom  \n",
       "981216  2011-12-09 11:58:00    1.25      17315.0  United Kingdom  \n",
       "981217  2011-12-09 11:58:00    1.25      17315.0  United Kingdom  \n",
       "\n",
       "[16005 rows x 8 columns]"
      ]
     },
     "execution_count": 17,
     "metadata": {},
     "output_type": "execute_result"
    }
   ],
   "source": [
    "#Check if there are any negative values\n",
    "df_data[df_data['Quantity']<0]"
   ]
  },
  {
   "cell_type": "markdown",
   "id": "cbea0b47",
   "metadata": {
    "papermill": {
     "duration": 0.056487,
     "end_time": "2022-05-26T15:24:46.939567",
     "exception": false,
     "start_time": "2022-05-26T15:24:46.883080",
     "status": "completed"
    },
    "tags": []
   },
   "source": [
    "**Observation**: There are 16005 records with negative quantity. This is because the corresponding Invoice entry has been canceled -> The Invoice starts with 'C' for cancelled transactions\n"
   ]
  },
  {
   "cell_type": "code",
   "execution_count": 18,
   "id": "dc514a60",
   "metadata": {
    "execution": {
     "iopub.execute_input": "2022-05-26T15:24:47.054578Z",
     "iopub.status.busy": "2022-05-26T15:24:47.054062Z",
     "iopub.status.idle": "2022-05-26T15:24:47.156037Z",
     "shell.execute_reply": "2022-05-26T15:24:47.155069Z"
    },
    "papermill": {
     "duration": 0.161772,
     "end_time": "2022-05-26T15:24:47.158198",
     "exception": false,
     "start_time": "2022-05-26T15:24:46.996426",
     "status": "completed"
    },
    "tags": []
   },
   "outputs": [],
   "source": [
    "#We will drop the records who have been cancelled -> Invoice start with C\n",
    "index_name = df_data[(df_data['Quantity']<0)].index\n",
    "df_data.drop(index_name, inplace = True)"
   ]
  },
  {
   "cell_type": "markdown",
   "id": "527c54c9",
   "metadata": {
    "papermill": {
     "duration": 0.055222,
     "end_time": "2022-05-26T15:24:47.268696",
     "exception": false,
     "start_time": "2022-05-26T15:24:47.213474",
     "status": "completed"
    },
    "tags": []
   },
   "source": [
    "### Analyzing the Description feature"
   ]
  },
  {
   "cell_type": "code",
   "execution_count": 19,
   "id": "be5d0b18",
   "metadata": {
    "execution": {
     "iopub.execute_input": "2022-05-26T15:24:47.381213Z",
     "iopub.status.busy": "2022-05-26T15:24:47.380481Z",
     "iopub.status.idle": "2022-05-26T15:24:47.419543Z",
     "shell.execute_reply": "2022-05-26T15:24:47.418738Z"
    },
    "papermill": {
     "duration": 0.097164,
     "end_time": "2022-05-26T15:24:47.421344",
     "exception": false,
     "start_time": "2022-05-26T15:24:47.324180",
     "status": "completed"
    },
    "tags": []
   },
   "outputs": [
    {
     "data": {
      "text/html": [
       "<div>\n",
       "<style scoped>\n",
       "    .dataframe tbody tr th:only-of-type {\n",
       "        vertical-align: middle;\n",
       "    }\n",
       "\n",
       "    .dataframe tbody tr th {\n",
       "        vertical-align: top;\n",
       "    }\n",
       "\n",
       "    .dataframe thead th {\n",
       "        text-align: right;\n",
       "    }\n",
       "</style>\n",
       "<table border=\"1\" class=\"dataframe\">\n",
       "  <thead>\n",
       "    <tr style=\"text-align: right;\">\n",
       "      <th></th>\n",
       "      <th>Invoice</th>\n",
       "      <th>StockCode</th>\n",
       "      <th>Description</th>\n",
       "      <th>Quantity</th>\n",
       "      <th>InvoiceDate</th>\n",
       "      <th>Price</th>\n",
       "      <th>Customer ID</th>\n",
       "      <th>Country</th>\n",
       "    </tr>\n",
       "  </thead>\n",
       "  <tbody>\n",
       "  </tbody>\n",
       "</table>\n",
       "</div>"
      ],
      "text/plain": [
       "Empty DataFrame\n",
       "Columns: [Invoice, StockCode, Description, Quantity, InvoiceDate, Price, Customer ID, Country]\n",
       "Index: []"
      ]
     },
     "execution_count": 19,
     "metadata": {},
     "output_type": "execute_result"
    }
   ],
   "source": [
    "df_data[df_data['Description'].isna()]"
   ]
  },
  {
   "cell_type": "code",
   "execution_count": 20,
   "id": "4cca95c2",
   "metadata": {
    "execution": {
     "iopub.execute_input": "2022-05-26T15:24:47.537147Z",
     "iopub.status.busy": "2022-05-26T15:24:47.536306Z",
     "iopub.status.idle": "2022-05-26T15:24:47.548169Z",
     "shell.execute_reply": "2022-05-26T15:24:47.547657Z"
    },
    "papermill": {
     "duration": 0.072963,
     "end_time": "2022-05-26T15:24:47.549811",
     "exception": false,
     "start_time": "2022-05-26T15:24:47.476848",
     "status": "completed"
    },
    "tags": []
   },
   "outputs": [
    {
     "data": {
      "text/html": [
       "<div>\n",
       "<style scoped>\n",
       "    .dataframe tbody tr th:only-of-type {\n",
       "        vertical-align: middle;\n",
       "    }\n",
       "\n",
       "    .dataframe tbody tr th {\n",
       "        vertical-align: top;\n",
       "    }\n",
       "\n",
       "    .dataframe thead th {\n",
       "        text-align: right;\n",
       "    }\n",
       "</style>\n",
       "<table border=\"1\" class=\"dataframe\">\n",
       "  <thead>\n",
       "    <tr style=\"text-align: right;\">\n",
       "      <th></th>\n",
       "      <th>Invoice</th>\n",
       "      <th>StockCode</th>\n",
       "      <th>Description</th>\n",
       "      <th>Quantity</th>\n",
       "      <th>InvoiceDate</th>\n",
       "      <th>Price</th>\n",
       "      <th>Customer ID</th>\n",
       "      <th>Country</th>\n",
       "    </tr>\n",
       "  </thead>\n",
       "  <tbody>\n",
       "    <tr>\n",
       "      <th>0</th>\n",
       "      <td>489434</td>\n",
       "      <td>85048</td>\n",
       "      <td>15CM CHRISTMAS GLASS BALL 20 LIGHTS</td>\n",
       "      <td>12</td>\n",
       "      <td>2009-12-01 07:45:00</td>\n",
       "      <td>6.95</td>\n",
       "      <td>13085.0</td>\n",
       "      <td>United Kingdom</td>\n",
       "    </tr>\n",
       "    <tr>\n",
       "      <th>1</th>\n",
       "      <td>489434</td>\n",
       "      <td>79323P</td>\n",
       "      <td>PINK CHERRY LIGHTS</td>\n",
       "      <td>12</td>\n",
       "      <td>2009-12-01 07:45:00</td>\n",
       "      <td>6.75</td>\n",
       "      <td>13085.0</td>\n",
       "      <td>United Kingdom</td>\n",
       "    </tr>\n",
       "    <tr>\n",
       "      <th>2</th>\n",
       "      <td>489434</td>\n",
       "      <td>79323W</td>\n",
       "      <td>WHITE CHERRY LIGHTS</td>\n",
       "      <td>12</td>\n",
       "      <td>2009-12-01 07:45:00</td>\n",
       "      <td>6.75</td>\n",
       "      <td>13085.0</td>\n",
       "      <td>United Kingdom</td>\n",
       "    </tr>\n",
       "    <tr>\n",
       "      <th>3</th>\n",
       "      <td>489434</td>\n",
       "      <td>22041</td>\n",
       "      <td>RECORD FRAME 7\" SINGLE SIZE</td>\n",
       "      <td>48</td>\n",
       "      <td>2009-12-01 07:45:00</td>\n",
       "      <td>2.10</td>\n",
       "      <td>13085.0</td>\n",
       "      <td>United Kingdom</td>\n",
       "    </tr>\n",
       "    <tr>\n",
       "      <th>4</th>\n",
       "      <td>489434</td>\n",
       "      <td>21232</td>\n",
       "      <td>STRAWBERRY CERAMIC TRINKET BOX</td>\n",
       "      <td>24</td>\n",
       "      <td>2009-12-01 07:45:00</td>\n",
       "      <td>1.25</td>\n",
       "      <td>13085.0</td>\n",
       "      <td>United Kingdom</td>\n",
       "    </tr>\n",
       "  </tbody>\n",
       "</table>\n",
       "</div>"
      ],
      "text/plain": [
       "  Invoice StockCode                          Description  Quantity  \\\n",
       "0  489434     85048  15CM CHRISTMAS GLASS BALL 20 LIGHTS        12   \n",
       "1  489434    79323P                   PINK CHERRY LIGHTS        12   \n",
       "2  489434    79323W                  WHITE CHERRY LIGHTS        12   \n",
       "3  489434     22041         RECORD FRAME 7\" SINGLE SIZE         48   \n",
       "4  489434     21232       STRAWBERRY CERAMIC TRINKET BOX        24   \n",
       "\n",
       "           InvoiceDate  Price  Customer ID         Country  \n",
       "0  2009-12-01 07:45:00   6.95      13085.0  United Kingdom  \n",
       "1  2009-12-01 07:45:00   6.75      13085.0  United Kingdom  \n",
       "2  2009-12-01 07:45:00   6.75      13085.0  United Kingdom  \n",
       "3  2009-12-01 07:45:00   2.10      13085.0  United Kingdom  \n",
       "4  2009-12-01 07:45:00   1.25      13085.0  United Kingdom  "
      ]
     },
     "execution_count": 20,
     "metadata": {},
     "output_type": "execute_result"
    }
   ],
   "source": [
    "df_data.head()"
   ]
  },
  {
   "cell_type": "code",
   "execution_count": 21,
   "id": "63f6c112",
   "metadata": {
    "execution": {
     "iopub.execute_input": "2022-05-26T15:24:47.665423Z",
     "iopub.status.busy": "2022-05-26T15:24:47.664944Z",
     "iopub.status.idle": "2022-05-26T15:24:47.672832Z",
     "shell.execute_reply": "2022-05-26T15:24:47.672073Z"
    },
    "papermill": {
     "duration": 0.067162,
     "end_time": "2022-05-26T15:24:47.674637",
     "exception": false,
     "start_time": "2022-05-26T15:24:47.607475",
     "status": "completed"
    },
    "tags": []
   },
   "outputs": [],
   "source": [
    "#Create a new feature named TotalPrice by multiplying Quantity and Price feature\n",
    "df_data['TotalPrice'] = df_data['Quantity'] * df_data['Price']"
   ]
  },
  {
   "cell_type": "code",
   "execution_count": 22,
   "id": "535a45eb",
   "metadata": {
    "execution": {
     "iopub.execute_input": "2022-05-26T15:24:47.789887Z",
     "iopub.status.busy": "2022-05-26T15:24:47.789194Z",
     "iopub.status.idle": "2022-05-26T15:24:47.814940Z",
     "shell.execute_reply": "2022-05-26T15:24:47.814383Z"
    },
    "papermill": {
     "duration": 0.085897,
     "end_time": "2022-05-26T15:24:47.816574",
     "exception": false,
     "start_time": "2022-05-26T15:24:47.730677",
     "status": "completed"
    },
    "tags": []
   },
   "outputs": [
    {
     "data": {
      "text/plain": [
       "Customer ID\n",
       "12346.0    77556.46\n",
       "12608.0      415.79\n",
       "12745.0      723.85\n",
       "12746.0      254.55\n",
       "12747.0     9276.54\n",
       "             ...   \n",
       "18283.0     2736.65\n",
       "18284.0      461.68\n",
       "18285.0      427.00\n",
       "18286.0     1296.43\n",
       "18287.0     4182.99\n",
       "Name: TotalPrice, Length: 5350, dtype: float64"
      ]
     },
     "execution_count": 22,
     "metadata": {},
     "output_type": "execute_result"
    }
   ],
   "source": [
    "#Get the top customers\n",
    "df_data.groupby(\"Customer ID\")[\"TotalPrice\"].sum()"
   ]
  },
  {
   "cell_type": "code",
   "execution_count": 23,
   "id": "cdf40dd3",
   "metadata": {
    "execution": {
     "iopub.execute_input": "2022-05-26T15:24:47.931013Z",
     "iopub.status.busy": "2022-05-26T15:24:47.930480Z",
     "iopub.status.idle": "2022-05-26T15:24:48.015234Z",
     "shell.execute_reply": "2022-05-26T15:24:48.014416Z"
    },
    "papermill": {
     "duration": 0.144381,
     "end_time": "2022-05-26T15:24:48.017160",
     "exception": false,
     "start_time": "2022-05-26T15:24:47.872779",
     "status": "completed"
    },
    "tags": []
   },
   "outputs": [
    {
     "data": {
      "text/html": [
       "<div>\n",
       "<style scoped>\n",
       "    .dataframe tbody tr th:only-of-type {\n",
       "        vertical-align: middle;\n",
       "    }\n",
       "\n",
       "    .dataframe tbody tr th {\n",
       "        vertical-align: top;\n",
       "    }\n",
       "\n",
       "    .dataframe thead th {\n",
       "        text-align: right;\n",
       "    }\n",
       "</style>\n",
       "<table border=\"1\" class=\"dataframe\">\n",
       "  <thead>\n",
       "    <tr style=\"text-align: right;\">\n",
       "      <th></th>\n",
       "      <th>Invoice</th>\n",
       "      <th>StockCode</th>\n",
       "      <th>Description</th>\n",
       "      <th>Quantity</th>\n",
       "      <th>InvoiceDate</th>\n",
       "      <th>Price</th>\n",
       "      <th>Customer ID</th>\n",
       "      <th>Country</th>\n",
       "      <th>TotalPrice</th>\n",
       "    </tr>\n",
       "  </thead>\n",
       "  <tbody>\n",
       "    <tr>\n",
       "      <th>0</th>\n",
       "      <td>489434</td>\n",
       "      <td>85048</td>\n",
       "      <td>15CM CHRISTMAS GLASS BALL 20 LIGHTS</td>\n",
       "      <td>12</td>\n",
       "      <td>2009-12-01 07:45:00</td>\n",
       "      <td>6.95</td>\n",
       "      <td>13085.0</td>\n",
       "      <td>United Kingdom</td>\n",
       "      <td>83.4</td>\n",
       "    </tr>\n",
       "    <tr>\n",
       "      <th>1</th>\n",
       "      <td>489434</td>\n",
       "      <td>79323P</td>\n",
       "      <td>PINK CHERRY LIGHTS</td>\n",
       "      <td>12</td>\n",
       "      <td>2009-12-01 07:45:00</td>\n",
       "      <td>6.75</td>\n",
       "      <td>13085.0</td>\n",
       "      <td>United Kingdom</td>\n",
       "      <td>81.0</td>\n",
       "    </tr>\n",
       "    <tr>\n",
       "      <th>2</th>\n",
       "      <td>489434</td>\n",
       "      <td>79323W</td>\n",
       "      <td>WHITE CHERRY LIGHTS</td>\n",
       "      <td>12</td>\n",
       "      <td>2009-12-01 07:45:00</td>\n",
       "      <td>6.75</td>\n",
       "      <td>13085.0</td>\n",
       "      <td>United Kingdom</td>\n",
       "      <td>81.0</td>\n",
       "    </tr>\n",
       "    <tr>\n",
       "      <th>3</th>\n",
       "      <td>489434</td>\n",
       "      <td>22041</td>\n",
       "      <td>RECORD FRAME 7\" SINGLE SIZE</td>\n",
       "      <td>48</td>\n",
       "      <td>2009-12-01 07:45:00</td>\n",
       "      <td>2.10</td>\n",
       "      <td>13085.0</td>\n",
       "      <td>United Kingdom</td>\n",
       "      <td>100.8</td>\n",
       "    </tr>\n",
       "    <tr>\n",
       "      <th>4</th>\n",
       "      <td>489434</td>\n",
       "      <td>21232</td>\n",
       "      <td>STRAWBERRY CERAMIC TRINKET BOX</td>\n",
       "      <td>24</td>\n",
       "      <td>2009-12-01 07:45:00</td>\n",
       "      <td>1.25</td>\n",
       "      <td>13085.0</td>\n",
       "      <td>United Kingdom</td>\n",
       "      <td>30.0</td>\n",
       "    </tr>\n",
       "  </tbody>\n",
       "</table>\n",
       "</div>"
      ],
      "text/plain": [
       "  Invoice StockCode                          Description  Quantity  \\\n",
       "0  489434     85048  15CM CHRISTMAS GLASS BALL 20 LIGHTS        12   \n",
       "1  489434    79323P                   PINK CHERRY LIGHTS        12   \n",
       "2  489434    79323W                  WHITE CHERRY LIGHTS        12   \n",
       "3  489434     22041         RECORD FRAME 7\" SINGLE SIZE         48   \n",
       "4  489434     21232       STRAWBERRY CERAMIC TRINKET BOX        24   \n",
       "\n",
       "           InvoiceDate  Price  Customer ID         Country  TotalPrice  \n",
       "0  2009-12-01 07:45:00   6.95      13085.0  United Kingdom        83.4  \n",
       "1  2009-12-01 07:45:00   6.75      13085.0  United Kingdom        81.0  \n",
       "2  2009-12-01 07:45:00   6.75      13085.0  United Kingdom        81.0  \n",
       "3  2009-12-01 07:45:00   2.10      13085.0  United Kingdom       100.8  \n",
       "4  2009-12-01 07:45:00   1.25      13085.0  United Kingdom        30.0  "
      ]
     },
     "execution_count": 23,
     "metadata": {},
     "output_type": "execute_result"
    }
   ],
   "source": [
    "#data after cleaning\n",
    "df_data2 = df_data.copy(deep=True)\n",
    "df_data2.head()"
   ]
  },
  {
   "cell_type": "code",
   "execution_count": 24,
   "id": "089a2f70",
   "metadata": {
    "execution": {
     "iopub.execute_input": "2022-05-26T15:24:48.134383Z",
     "iopub.status.busy": "2022-05-26T15:24:48.133560Z",
     "iopub.status.idle": "2022-05-26T15:24:48.138852Z",
     "shell.execute_reply": "2022-05-26T15:24:48.138230Z"
    },
    "papermill": {
     "duration": 0.065669,
     "end_time": "2022-05-26T15:24:48.140440",
     "exception": false,
     "start_time": "2022-05-26T15:24:48.074771",
     "status": "completed"
    },
    "tags": []
   },
   "outputs": [
    {
     "data": {
      "text/plain": [
       "(725250, 9)"
      ]
     },
     "execution_count": 24,
     "metadata": {},
     "output_type": "execute_result"
    }
   ],
   "source": [
    "df_data2.shape"
   ]
  },
  {
   "cell_type": "markdown",
   "id": "4f439c76",
   "metadata": {
    "papermill": {
     "duration": 0.057733,
     "end_time": "2022-05-26T15:24:48.255076",
     "exception": false,
     "start_time": "2022-05-26T15:24:48.197343",
     "status": "completed"
    },
    "tags": []
   },
   "source": [
    "## **RFM** Modelling"
   ]
  },
  {
   "cell_type": "markdown",
   "id": "e7976ae9",
   "metadata": {
    "papermill": {
     "duration": 0.057047,
     "end_time": "2022-05-26T15:24:48.369331",
     "exception": false,
     "start_time": "2022-05-26T15:24:48.312284",
     "status": "completed"
    },
    "tags": []
   },
   "source": [
    "**RFM is an acronym for recency, frequency, and monetary value.**\n",
    "\n",
    "* Recency: How recently a customer has made a purchase\n",
    "* Frequency: How often a customer makes a purchase\n",
    "* Monetary Value: How much money a customer spends on purchases\n",
    "\n",
    "RFM analysis numerically ranks a customer in each of these three categories, generally on a scale of 1 to 5 (the higher the number, the better the result). The \"best\" customer would receive a top score in every category.\n",
    "\n",
    "**Recency**\n",
    "* The more recently a customer has made a purchase with a company, the more likely they will continue to keep the business and brand in mind for subsequent purchases. Compared with customers who have not bought from the business in months or even longer periods, the likelihood of engaging in future transactions with recent customers is arguably higher.\n",
    "* Such information can be used to get recent customers to revisit the business and spend more. In an effort not to overlook lapsed customers, marketing efforts might be made to remind them that it's been a while since their last transaction, while offering them an incentive to resume buying.\n",
    "\n",
    "\n",
    "**Frequency**\n",
    "* The frequency of a customer’s transactions may be affected by factors such as the type of product, the price point for the purchase, and the need for replenishment or replacement. If the purchase cycle can be predicted — for example when a customer needs to buy more groceries — marketing efforts may be directed towards reminding them to visit the business when staple items run low.\n",
    "\n",
    "\n",
    "**Monetary Value**\n",
    "* Monetary value stems from how much the customer spends. A natural inclination is to put more emphasis on encouraging customers who spend the most money to continue to do so. While this can produce a better return on investment in marketing and customer service, it also runs the risk of alienating customers who have been consistent but may not spend as much with each transaction.\n",
    "\n",
    "Reference:\n",
    "https://www.investopedia.com/terms/r/rfm-recency-frequency-monetary-value.asp"
   ]
  },
  {
   "cell_type": "code",
   "execution_count": 25,
   "id": "7fd570c4",
   "metadata": {
    "execution": {
     "iopub.execute_input": "2022-05-26T15:24:48.485959Z",
     "iopub.status.busy": "2022-05-26T15:24:48.485488Z",
     "iopub.status.idle": "2022-05-26T15:24:48.488947Z",
     "shell.execute_reply": "2022-05-26T15:24:48.488283Z"
    },
    "papermill": {
     "duration": 0.063651,
     "end_time": "2022-05-26T15:24:48.490598",
     "exception": false,
     "start_time": "2022-05-26T15:24:48.426947",
     "status": "completed"
    },
    "tags": []
   },
   "outputs": [],
   "source": [
    "#We will assign the next day after the last date recorded in the dataset as 'today_date'\n",
    "today_date = dt.datetime(2011, 12, 11)"
   ]
  },
  {
   "cell_type": "code",
   "execution_count": 26,
   "id": "134f1116",
   "metadata": {
    "execution": {
     "iopub.execute_input": "2022-05-26T15:24:48.607439Z",
     "iopub.status.busy": "2022-05-26T15:24:48.606992Z",
     "iopub.status.idle": "2022-05-26T15:24:48.754270Z",
     "shell.execute_reply": "2022-05-26T15:24:48.753298Z"
    },
    "papermill": {
     "duration": 0.208335,
     "end_time": "2022-05-26T15:24:48.756621",
     "exception": false,
     "start_time": "2022-05-26T15:24:48.548286",
     "status": "completed"
    },
    "tags": []
   },
   "outputs": [],
   "source": [
    "#We will change the datatype of InvoiceDate to datetime from object\n",
    "df_data2['InvoiceDate'] = df_data2['InvoiceDate'].astype('datetime64')"
   ]
  },
  {
   "cell_type": "markdown",
   "id": "d071d499",
   "metadata": {
    "papermill": {
     "duration": 0.058092,
     "end_time": "2022-05-26T15:24:48.873105",
     "exception": false,
     "start_time": "2022-05-26T15:24:48.815013",
     "status": "completed"
    },
    "tags": []
   },
   "source": [
    "* Recency is calculated by subtracting today_date - the last day the customer made a purchase\n",
    "* Frequency is calculated by getting the unique count of Invoices\n",
    "* Monetary value is calculated by getting the sum of totalprice"
   ]
  },
  {
   "cell_type": "code",
   "execution_count": 27,
   "id": "25b8802b",
   "metadata": {
    "execution": {
     "iopub.execute_input": "2022-05-26T15:24:48.991283Z",
     "iopub.status.busy": "2022-05-26T15:24:48.990990Z",
     "iopub.status.idle": "2022-05-26T15:24:50.267479Z",
     "shell.execute_reply": "2022-05-26T15:24:50.266550Z"
    },
    "papermill": {
     "duration": 1.337603,
     "end_time": "2022-05-26T15:24:50.269737",
     "exception": false,
     "start_time": "2022-05-26T15:24:48.932134",
     "status": "completed"
    },
    "tags": []
   },
   "outputs": [],
   "source": [
    "rfm = df_data2.groupby('Customer ID').agg({'InvoiceDate': lambda date: (today_date - date.max()).days,\n",
    "                                     'Invoice': lambda num: num.nunique(),\n",
    "                                     'TotalPrice': lambda TotalPrice: TotalPrice.sum()})"
   ]
  },
  {
   "cell_type": "code",
   "execution_count": 28,
   "id": "c497563a",
   "metadata": {
    "execution": {
     "iopub.execute_input": "2022-05-26T15:24:50.386477Z",
     "iopub.status.busy": "2022-05-26T15:24:50.386186Z",
     "iopub.status.idle": "2022-05-26T15:24:50.396681Z",
     "shell.execute_reply": "2022-05-26T15:24:50.396150Z"
    },
    "papermill": {
     "duration": 0.071012,
     "end_time": "2022-05-26T15:24:50.398705",
     "exception": false,
     "start_time": "2022-05-26T15:24:50.327693",
     "status": "completed"
    },
    "tags": []
   },
   "outputs": [
    {
     "data": {
      "text/html": [
       "<div>\n",
       "<style scoped>\n",
       "    .dataframe tbody tr th:only-of-type {\n",
       "        vertical-align: middle;\n",
       "    }\n",
       "\n",
       "    .dataframe tbody tr th {\n",
       "        vertical-align: top;\n",
       "    }\n",
       "\n",
       "    .dataframe thead th {\n",
       "        text-align: right;\n",
       "    }\n",
       "</style>\n",
       "<table border=\"1\" class=\"dataframe\">\n",
       "  <thead>\n",
       "    <tr style=\"text-align: right;\">\n",
       "      <th></th>\n",
       "      <th>Customer ID</th>\n",
       "      <th>InvoiceDate</th>\n",
       "      <th>Invoice</th>\n",
       "      <th>TotalPrice</th>\n",
       "    </tr>\n",
       "  </thead>\n",
       "  <tbody>\n",
       "    <tr>\n",
       "      <th>0</th>\n",
       "      <td>12346.0</td>\n",
       "      <td>326</td>\n",
       "      <td>12</td>\n",
       "      <td>77556.46</td>\n",
       "    </tr>\n",
       "    <tr>\n",
       "      <th>1</th>\n",
       "      <td>12608.0</td>\n",
       "      <td>405</td>\n",
       "      <td>1</td>\n",
       "      <td>415.79</td>\n",
       "    </tr>\n",
       "    <tr>\n",
       "      <th>2</th>\n",
       "      <td>12745.0</td>\n",
       "      <td>487</td>\n",
       "      <td>2</td>\n",
       "      <td>723.85</td>\n",
       "    </tr>\n",
       "    <tr>\n",
       "      <th>3</th>\n",
       "      <td>12746.0</td>\n",
       "      <td>541</td>\n",
       "      <td>1</td>\n",
       "      <td>254.55</td>\n",
       "    </tr>\n",
       "    <tr>\n",
       "      <th>4</th>\n",
       "      <td>12747.0</td>\n",
       "      <td>3</td>\n",
       "      <td>26</td>\n",
       "      <td>9276.54</td>\n",
       "    </tr>\n",
       "  </tbody>\n",
       "</table>\n",
       "</div>"
      ],
      "text/plain": [
       "   Customer ID  InvoiceDate  Invoice  TotalPrice\n",
       "0      12346.0          326       12    77556.46\n",
       "1      12608.0          405        1      415.79\n",
       "2      12745.0          487        2      723.85\n",
       "3      12746.0          541        1      254.55\n",
       "4      12747.0            3       26     9276.54"
      ]
     },
     "execution_count": 28,
     "metadata": {},
     "output_type": "execute_result"
    }
   ],
   "source": [
    "rfm=rfm.reset_index()\n",
    "rfm.head()"
   ]
  },
  {
   "cell_type": "code",
   "execution_count": 29,
   "id": "ef712a8f",
   "metadata": {
    "execution": {
     "iopub.execute_input": "2022-05-26T15:24:50.516630Z",
     "iopub.status.busy": "2022-05-26T15:24:50.516158Z",
     "iopub.status.idle": "2022-05-26T15:24:50.524967Z",
     "shell.execute_reply": "2022-05-26T15:24:50.524476Z"
    },
    "papermill": {
     "duration": 0.069915,
     "end_time": "2022-05-26T15:24:50.526707",
     "exception": false,
     "start_time": "2022-05-26T15:24:50.456792",
     "status": "completed"
    },
    "tags": []
   },
   "outputs": [
    {
     "data": {
      "text/html": [
       "<div>\n",
       "<style scoped>\n",
       "    .dataframe tbody tr th:only-of-type {\n",
       "        vertical-align: middle;\n",
       "    }\n",
       "\n",
       "    .dataframe tbody tr th {\n",
       "        vertical-align: top;\n",
       "    }\n",
       "\n",
       "    .dataframe thead th {\n",
       "        text-align: right;\n",
       "    }\n",
       "</style>\n",
       "<table border=\"1\" class=\"dataframe\">\n",
       "  <thead>\n",
       "    <tr style=\"text-align: right;\">\n",
       "      <th></th>\n",
       "      <th>CustomerID</th>\n",
       "      <th>Recency</th>\n",
       "      <th>Frequency</th>\n",
       "      <th>Monetary</th>\n",
       "    </tr>\n",
       "  </thead>\n",
       "  <tbody>\n",
       "    <tr>\n",
       "      <th>0</th>\n",
       "      <td>12346.0</td>\n",
       "      <td>326</td>\n",
       "      <td>12</td>\n",
       "      <td>77556.46</td>\n",
       "    </tr>\n",
       "    <tr>\n",
       "      <th>1</th>\n",
       "      <td>12608.0</td>\n",
       "      <td>405</td>\n",
       "      <td>1</td>\n",
       "      <td>415.79</td>\n",
       "    </tr>\n",
       "    <tr>\n",
       "      <th>2</th>\n",
       "      <td>12745.0</td>\n",
       "      <td>487</td>\n",
       "      <td>2</td>\n",
       "      <td>723.85</td>\n",
       "    </tr>\n",
       "    <tr>\n",
       "      <th>3</th>\n",
       "      <td>12746.0</td>\n",
       "      <td>541</td>\n",
       "      <td>1</td>\n",
       "      <td>254.55</td>\n",
       "    </tr>\n",
       "    <tr>\n",
       "      <th>4</th>\n",
       "      <td>12747.0</td>\n",
       "      <td>3</td>\n",
       "      <td>26</td>\n",
       "      <td>9276.54</td>\n",
       "    </tr>\n",
       "  </tbody>\n",
       "</table>\n",
       "</div>"
      ],
      "text/plain": [
       "   CustomerID  Recency  Frequency  Monetary\n",
       "0     12346.0      326         12  77556.46\n",
       "1     12608.0      405          1    415.79\n",
       "2     12745.0      487          2    723.85\n",
       "3     12746.0      541          1    254.55\n",
       "4     12747.0        3         26   9276.54"
      ]
     },
     "execution_count": 29,
     "metadata": {},
     "output_type": "execute_result"
    }
   ],
   "source": [
    "#renaming the column names\n",
    "rfm.columns = ['CustomerID','Recency', 'Frequency', 'Monetary']\n",
    "rfm.head()"
   ]
  },
  {
   "cell_type": "code",
   "execution_count": 30,
   "id": "a0611f85",
   "metadata": {
    "execution": {
     "iopub.execute_input": "2022-05-26T15:24:50.644881Z",
     "iopub.status.busy": "2022-05-26T15:24:50.644363Z",
     "iopub.status.idle": "2022-05-26T15:24:50.665324Z",
     "shell.execute_reply": "2022-05-26T15:24:50.664582Z"
    },
    "papermill": {
     "duration": 0.082113,
     "end_time": "2022-05-26T15:24:50.667072",
     "exception": false,
     "start_time": "2022-05-26T15:24:50.584959",
     "status": "completed"
    },
    "tags": []
   },
   "outputs": [
    {
     "data": {
      "text/html": [
       "<div>\n",
       "<style scoped>\n",
       "    .dataframe tbody tr th:only-of-type {\n",
       "        vertical-align: middle;\n",
       "    }\n",
       "\n",
       "    .dataframe tbody tr th {\n",
       "        vertical-align: top;\n",
       "    }\n",
       "\n",
       "    .dataframe thead th {\n",
       "        text-align: right;\n",
       "    }\n",
       "</style>\n",
       "<table border=\"1\" class=\"dataframe\">\n",
       "  <thead>\n",
       "    <tr style=\"text-align: right;\">\n",
       "      <th></th>\n",
       "      <th>CustomerID</th>\n",
       "      <th>Recency</th>\n",
       "      <th>Frequency</th>\n",
       "      <th>Monetary</th>\n",
       "    </tr>\n",
       "  </thead>\n",
       "  <tbody>\n",
       "    <tr>\n",
       "      <th>count</th>\n",
       "      <td>5350.000000</td>\n",
       "      <td>5350.000000</td>\n",
       "      <td>5350.000000</td>\n",
       "      <td>5350.000000</td>\n",
       "    </tr>\n",
       "    <tr>\n",
       "      <th>mean</th>\n",
       "      <td>15557.362617</td>\n",
       "      <td>203.546168</td>\n",
       "      <td>6.269346</td>\n",
       "      <td>2751.990190</td>\n",
       "    </tr>\n",
       "    <tr>\n",
       "      <th>std</th>\n",
       "      <td>1581.161762</td>\n",
       "      <td>209.973818</td>\n",
       "      <td>11.995550</td>\n",
       "      <td>12080.466564</td>\n",
       "    </tr>\n",
       "    <tr>\n",
       "      <th>min</th>\n",
       "      <td>12346.000000</td>\n",
       "      <td>1.000000</td>\n",
       "      <td>1.000000</td>\n",
       "      <td>2.950000</td>\n",
       "    </tr>\n",
       "    <tr>\n",
       "      <th>25%</th>\n",
       "      <td>14191.250000</td>\n",
       "      <td>26.000000</td>\n",
       "      <td>1.000000</td>\n",
       "      <td>336.167500</td>\n",
       "    </tr>\n",
       "    <tr>\n",
       "      <th>50%</th>\n",
       "      <td>15565.500000</td>\n",
       "      <td>99.000000</td>\n",
       "      <td>3.000000</td>\n",
       "      <td>849.910000</td>\n",
       "    </tr>\n",
       "    <tr>\n",
       "      <th>75%</th>\n",
       "      <td>16922.750000</td>\n",
       "      <td>382.000000</td>\n",
       "      <td>7.000000</td>\n",
       "      <td>2214.905000</td>\n",
       "    </tr>\n",
       "    <tr>\n",
       "      <th>max</th>\n",
       "      <td>18287.000000</td>\n",
       "      <td>739.000000</td>\n",
       "      <td>336.000000</td>\n",
       "      <td>608821.650000</td>\n",
       "    </tr>\n",
       "  </tbody>\n",
       "</table>\n",
       "</div>"
      ],
      "text/plain": [
       "         CustomerID      Recency    Frequency       Monetary\n",
       "count   5350.000000  5350.000000  5350.000000    5350.000000\n",
       "mean   15557.362617   203.546168     6.269346    2751.990190\n",
       "std     1581.161762   209.973818    11.995550   12080.466564\n",
       "min    12346.000000     1.000000     1.000000       2.950000\n",
       "25%    14191.250000    26.000000     1.000000     336.167500\n",
       "50%    15565.500000    99.000000     3.000000     849.910000\n",
       "75%    16922.750000   382.000000     7.000000    2214.905000\n",
       "max    18287.000000   739.000000   336.000000  608821.650000"
      ]
     },
     "execution_count": 30,
     "metadata": {},
     "output_type": "execute_result"
    }
   ],
   "source": [
    "rfm.describe()"
   ]
  },
  {
   "cell_type": "code",
   "execution_count": 31,
   "id": "45120f33",
   "metadata": {
    "execution": {
     "iopub.execute_input": "2022-05-26T15:24:50.785866Z",
     "iopub.status.busy": "2022-05-26T15:24:50.785378Z",
     "iopub.status.idle": "2022-05-26T15:24:50.790652Z",
     "shell.execute_reply": "2022-05-26T15:24:50.790139Z"
    },
    "papermill": {
     "duration": 0.066257,
     "end_time": "2022-05-26T15:24:50.792302",
     "exception": false,
     "start_time": "2022-05-26T15:24:50.726045",
     "status": "completed"
    },
    "tags": []
   },
   "outputs": [],
   "source": [
    "#Split into four segments using quantiles\n",
    "quantiles = rfm.quantile(q=[0.25,0.5,0.75])\n",
    "quantiles = quantiles.to_dict()"
   ]
  },
  {
   "cell_type": "code",
   "execution_count": 32,
   "id": "c8f3e005",
   "metadata": {
    "execution": {
     "iopub.execute_input": "2022-05-26T15:24:50.911484Z",
     "iopub.status.busy": "2022-05-26T15:24:50.910794Z",
     "iopub.status.idle": "2022-05-26T15:24:50.916236Z",
     "shell.execute_reply": "2022-05-26T15:24:50.915546Z"
    },
    "papermill": {
     "duration": 0.066576,
     "end_time": "2022-05-26T15:24:50.917890",
     "exception": false,
     "start_time": "2022-05-26T15:24:50.851314",
     "status": "completed"
    },
    "tags": []
   },
   "outputs": [
    {
     "data": {
      "text/plain": [
       "{'CustomerID': {0.25: 14191.25, 0.5: 15565.5, 0.75: 16922.75},\n",
       " 'Recency': {0.25: 26.0, 0.5: 99.0, 0.75: 382.0},\n",
       " 'Frequency': {0.25: 1.0, 0.5: 3.0, 0.75: 7.0},\n",
       " 'Monetary': {0.25: 336.1675000000001, 0.5: 849.9100000000001, 0.75: 2214.905}}"
      ]
     },
     "execution_count": 32,
     "metadata": {},
     "output_type": "execute_result"
    }
   ],
   "source": [
    "quantiles"
   ]
  },
  {
   "cell_type": "code",
   "execution_count": 33,
   "id": "cf0ae043",
   "metadata": {
    "execution": {
     "iopub.execute_input": "2022-05-26T15:24:51.047629Z",
     "iopub.status.busy": "2022-05-26T15:24:51.046290Z",
     "iopub.status.idle": "2022-05-26T15:24:51.056406Z",
     "shell.execute_reply": "2022-05-26T15:24:51.055055Z"
    },
    "papermill": {
     "duration": 0.081605,
     "end_time": "2022-05-26T15:24:51.058350",
     "exception": false,
     "start_time": "2022-05-26T15:24:50.976745",
     "status": "completed"
    },
    "tags": []
   },
   "outputs": [],
   "source": [
    "#Functions to create R, F and M segments\n",
    "def RScoring(x,p,d):\n",
    "    if x <= d[p][0.25]:\n",
    "        return 1\n",
    "    elif x <= d[p][0.50]:\n",
    "        return 2\n",
    "    elif x <= d[p][0.75]: \n",
    "        return 3\n",
    "    else:\n",
    "        return 4\n",
    "    \n",
    "def FnMScoring(x,p,d):\n",
    "    if x <= d[p][0.25]:\n",
    "        return 4\n",
    "    elif x <= d[p][0.50]:\n",
    "        return 3\n",
    "    elif x <= d[p][0.75]: \n",
    "        return 2\n",
    "    else:\n",
    "        return 1"
   ]
  },
  {
   "cell_type": "code",
   "execution_count": 34,
   "id": "a3bd8a06",
   "metadata": {
    "execution": {
     "iopub.execute_input": "2022-05-26T15:24:51.186126Z",
     "iopub.status.busy": "2022-05-26T15:24:51.185543Z",
     "iopub.status.idle": "2022-05-26T15:24:51.212391Z",
     "shell.execute_reply": "2022-05-26T15:24:51.211581Z"
    },
    "papermill": {
     "duration": 0.089024,
     "end_time": "2022-05-26T15:24:51.214433",
     "exception": false,
     "start_time": "2022-05-26T15:24:51.125409",
     "status": "completed"
    },
    "tags": []
   },
   "outputs": [
    {
     "data": {
      "text/html": [
       "<div>\n",
       "<style scoped>\n",
       "    .dataframe tbody tr th:only-of-type {\n",
       "        vertical-align: middle;\n",
       "    }\n",
       "\n",
       "    .dataframe tbody tr th {\n",
       "        vertical-align: top;\n",
       "    }\n",
       "\n",
       "    .dataframe thead th {\n",
       "        text-align: right;\n",
       "    }\n",
       "</style>\n",
       "<table border=\"1\" class=\"dataframe\">\n",
       "  <thead>\n",
       "    <tr style=\"text-align: right;\">\n",
       "      <th></th>\n",
       "      <th>CustomerID</th>\n",
       "      <th>Recency</th>\n",
       "      <th>Frequency</th>\n",
       "      <th>Monetary</th>\n",
       "      <th>R</th>\n",
       "      <th>F</th>\n",
       "      <th>M</th>\n",
       "    </tr>\n",
       "  </thead>\n",
       "  <tbody>\n",
       "    <tr>\n",
       "      <th>0</th>\n",
       "      <td>12346.0</td>\n",
       "      <td>326</td>\n",
       "      <td>12</td>\n",
       "      <td>77556.46</td>\n",
       "      <td>3</td>\n",
       "      <td>1</td>\n",
       "      <td>1</td>\n",
       "    </tr>\n",
       "    <tr>\n",
       "      <th>1</th>\n",
       "      <td>12608.0</td>\n",
       "      <td>405</td>\n",
       "      <td>1</td>\n",
       "      <td>415.79</td>\n",
       "      <td>4</td>\n",
       "      <td>4</td>\n",
       "      <td>3</td>\n",
       "    </tr>\n",
       "    <tr>\n",
       "      <th>2</th>\n",
       "      <td>12745.0</td>\n",
       "      <td>487</td>\n",
       "      <td>2</td>\n",
       "      <td>723.85</td>\n",
       "      <td>4</td>\n",
       "      <td>3</td>\n",
       "      <td>3</td>\n",
       "    </tr>\n",
       "    <tr>\n",
       "      <th>3</th>\n",
       "      <td>12746.0</td>\n",
       "      <td>541</td>\n",
       "      <td>1</td>\n",
       "      <td>254.55</td>\n",
       "      <td>4</td>\n",
       "      <td>4</td>\n",
       "      <td>4</td>\n",
       "    </tr>\n",
       "    <tr>\n",
       "      <th>4</th>\n",
       "      <td>12747.0</td>\n",
       "      <td>3</td>\n",
       "      <td>26</td>\n",
       "      <td>9276.54</td>\n",
       "      <td>1</td>\n",
       "      <td>1</td>\n",
       "      <td>1</td>\n",
       "    </tr>\n",
       "  </tbody>\n",
       "</table>\n",
       "</div>"
      ],
      "text/plain": [
       "   CustomerID  Recency  Frequency  Monetary  R  F  M\n",
       "0     12346.0      326         12  77556.46  3  1  1\n",
       "1     12608.0      405          1    415.79  4  4  3\n",
       "2     12745.0      487          2    723.85  4  3  3\n",
       "3     12746.0      541          1    254.55  4  4  4\n",
       "4     12747.0        3         26   9276.54  1  1  1"
      ]
     },
     "execution_count": 34,
     "metadata": {},
     "output_type": "execute_result"
    }
   ],
   "source": [
    "#Calculate Add R, F and M segment value columns in the existing dataset to show R, F and M segment values\n",
    "rfm['R'] = rfm['Recency'].apply(RScoring, args=('Recency',quantiles,))\n",
    "rfm['F'] = rfm['Frequency'].apply(FnMScoring, args=('Frequency',quantiles,))\n",
    "rfm['M'] = rfm['Monetary'].apply(FnMScoring, args=('Monetary',quantiles,))\n",
    "rfm.head()"
   ]
  },
  {
   "cell_type": "code",
   "execution_count": 35,
   "id": "35a4c12e",
   "metadata": {
    "execution": {
     "iopub.execute_input": "2022-05-26T15:24:51.334385Z",
     "iopub.status.busy": "2022-05-26T15:24:51.333973Z",
     "iopub.status.idle": "2022-05-26T15:24:51.353850Z",
     "shell.execute_reply": "2022-05-26T15:24:51.352927Z"
    },
    "papermill": {
     "duration": 0.082111,
     "end_time": "2022-05-26T15:24:51.355682",
     "exception": false,
     "start_time": "2022-05-26T15:24:51.273571",
     "status": "completed"
    },
    "tags": []
   },
   "outputs": [
    {
     "data": {
      "text/html": [
       "<div>\n",
       "<style scoped>\n",
       "    .dataframe tbody tr th:only-of-type {\n",
       "        vertical-align: middle;\n",
       "    }\n",
       "\n",
       "    .dataframe tbody tr th {\n",
       "        vertical-align: top;\n",
       "    }\n",
       "\n",
       "    .dataframe thead th {\n",
       "        text-align: right;\n",
       "    }\n",
       "</style>\n",
       "<table border=\"1\" class=\"dataframe\">\n",
       "  <thead>\n",
       "    <tr style=\"text-align: right;\">\n",
       "      <th></th>\n",
       "      <th>CustomerID</th>\n",
       "      <th>Recency</th>\n",
       "      <th>Frequency</th>\n",
       "      <th>Monetary</th>\n",
       "      <th>R</th>\n",
       "      <th>F</th>\n",
       "      <th>M</th>\n",
       "      <th>RFMGroup</th>\n",
       "      <th>RFMScore</th>\n",
       "    </tr>\n",
       "  </thead>\n",
       "  <tbody>\n",
       "    <tr>\n",
       "      <th>0</th>\n",
       "      <td>12346.0</td>\n",
       "      <td>326</td>\n",
       "      <td>12</td>\n",
       "      <td>77556.46</td>\n",
       "      <td>3</td>\n",
       "      <td>1</td>\n",
       "      <td>1</td>\n",
       "      <td>311</td>\n",
       "      <td>5</td>\n",
       "    </tr>\n",
       "    <tr>\n",
       "      <th>1</th>\n",
       "      <td>12608.0</td>\n",
       "      <td>405</td>\n",
       "      <td>1</td>\n",
       "      <td>415.79</td>\n",
       "      <td>4</td>\n",
       "      <td>4</td>\n",
       "      <td>3</td>\n",
       "      <td>443</td>\n",
       "      <td>11</td>\n",
       "    </tr>\n",
       "    <tr>\n",
       "      <th>2</th>\n",
       "      <td>12745.0</td>\n",
       "      <td>487</td>\n",
       "      <td>2</td>\n",
       "      <td>723.85</td>\n",
       "      <td>4</td>\n",
       "      <td>3</td>\n",
       "      <td>3</td>\n",
       "      <td>433</td>\n",
       "      <td>10</td>\n",
       "    </tr>\n",
       "    <tr>\n",
       "      <th>3</th>\n",
       "      <td>12746.0</td>\n",
       "      <td>541</td>\n",
       "      <td>1</td>\n",
       "      <td>254.55</td>\n",
       "      <td>4</td>\n",
       "      <td>4</td>\n",
       "      <td>4</td>\n",
       "      <td>444</td>\n",
       "      <td>12</td>\n",
       "    </tr>\n",
       "    <tr>\n",
       "      <th>4</th>\n",
       "      <td>12747.0</td>\n",
       "      <td>3</td>\n",
       "      <td>26</td>\n",
       "      <td>9276.54</td>\n",
       "      <td>1</td>\n",
       "      <td>1</td>\n",
       "      <td>1</td>\n",
       "      <td>111</td>\n",
       "      <td>3</td>\n",
       "    </tr>\n",
       "  </tbody>\n",
       "</table>\n",
       "</div>"
      ],
      "text/plain": [
       "   CustomerID  Recency  Frequency  Monetary  R  F  M RFMGroup  RFMScore\n",
       "0     12346.0      326         12  77556.46  3  1  1      311         5\n",
       "1     12608.0      405          1    415.79  4  4  3      443        11\n",
       "2     12745.0      487          2    723.85  4  3  3      433        10\n",
       "3     12746.0      541          1    254.55  4  4  4      444        12\n",
       "4     12747.0        3         26   9276.54  1  1  1      111         3"
      ]
     },
     "execution_count": 35,
     "metadata": {},
     "output_type": "execute_result"
    }
   ],
   "source": [
    "#Calculate and Add RFMGroup value column showing combined concatenated score of RFM\n",
    "rfm['RFMGroup'] = rfm.R.map(str) + rfm.F.map(str) + rfm.M.map(str)\n",
    "\n",
    "#Calculate and Add RFMScore value column showing total sum of RFMGroup values\n",
    "rfm['RFMScore'] = rfm[['R', 'F', 'M']].sum(axis = 1)\n",
    "rfm.head()"
   ]
  },
  {
   "cell_type": "code",
   "execution_count": 36,
   "id": "302ad75e",
   "metadata": {
    "execution": {
     "iopub.execute_input": "2022-05-26T15:24:51.477686Z",
     "iopub.status.busy": "2022-05-26T15:24:51.476720Z",
     "iopub.status.idle": "2022-05-26T15:24:51.494246Z",
     "shell.execute_reply": "2022-05-26T15:24:51.493589Z"
    },
    "papermill": {
     "duration": 0.080214,
     "end_time": "2022-05-26T15:24:51.495889",
     "exception": false,
     "start_time": "2022-05-26T15:24:51.415675",
     "status": "completed"
    },
    "tags": []
   },
   "outputs": [
    {
     "data": {
      "text/html": [
       "<div>\n",
       "<style scoped>\n",
       "    .dataframe tbody tr th:only-of-type {\n",
       "        vertical-align: middle;\n",
       "    }\n",
       "\n",
       "    .dataframe tbody tr th {\n",
       "        vertical-align: top;\n",
       "    }\n",
       "\n",
       "    .dataframe thead th {\n",
       "        text-align: right;\n",
       "    }\n",
       "</style>\n",
       "<table border=\"1\" class=\"dataframe\">\n",
       "  <thead>\n",
       "    <tr style=\"text-align: right;\">\n",
       "      <th></th>\n",
       "      <th>index</th>\n",
       "      <th>CustomerID</th>\n",
       "      <th>Recency</th>\n",
       "      <th>Frequency</th>\n",
       "      <th>Monetary</th>\n",
       "      <th>R</th>\n",
       "      <th>F</th>\n",
       "      <th>M</th>\n",
       "      <th>RFMGroup</th>\n",
       "      <th>RFMScore</th>\n",
       "      <th>RFM_Loyalty_Level</th>\n",
       "    </tr>\n",
       "  </thead>\n",
       "  <tbody>\n",
       "    <tr>\n",
       "      <th>0</th>\n",
       "      <td>0</td>\n",
       "      <td>12346.0</td>\n",
       "      <td>326</td>\n",
       "      <td>12</td>\n",
       "      <td>77556.46</td>\n",
       "      <td>3</td>\n",
       "      <td>1</td>\n",
       "      <td>1</td>\n",
       "      <td>311</td>\n",
       "      <td>5</td>\n",
       "      <td>Platinum</td>\n",
       "    </tr>\n",
       "    <tr>\n",
       "      <th>1</th>\n",
       "      <td>1</td>\n",
       "      <td>12608.0</td>\n",
       "      <td>405</td>\n",
       "      <td>1</td>\n",
       "      <td>415.79</td>\n",
       "      <td>4</td>\n",
       "      <td>4</td>\n",
       "      <td>3</td>\n",
       "      <td>443</td>\n",
       "      <td>11</td>\n",
       "      <td>Bronze</td>\n",
       "    </tr>\n",
       "    <tr>\n",
       "      <th>2</th>\n",
       "      <td>2</td>\n",
       "      <td>12745.0</td>\n",
       "      <td>487</td>\n",
       "      <td>2</td>\n",
       "      <td>723.85</td>\n",
       "      <td>4</td>\n",
       "      <td>3</td>\n",
       "      <td>3</td>\n",
       "      <td>433</td>\n",
       "      <td>10</td>\n",
       "      <td>Silver</td>\n",
       "    </tr>\n",
       "    <tr>\n",
       "      <th>3</th>\n",
       "      <td>3</td>\n",
       "      <td>12746.0</td>\n",
       "      <td>541</td>\n",
       "      <td>1</td>\n",
       "      <td>254.55</td>\n",
       "      <td>4</td>\n",
       "      <td>4</td>\n",
       "      <td>4</td>\n",
       "      <td>444</td>\n",
       "      <td>12</td>\n",
       "      <td>Bronze</td>\n",
       "    </tr>\n",
       "    <tr>\n",
       "      <th>4</th>\n",
       "      <td>4</td>\n",
       "      <td>12747.0</td>\n",
       "      <td>3</td>\n",
       "      <td>26</td>\n",
       "      <td>9276.54</td>\n",
       "      <td>1</td>\n",
       "      <td>1</td>\n",
       "      <td>1</td>\n",
       "      <td>111</td>\n",
       "      <td>3</td>\n",
       "      <td>Platinum</td>\n",
       "    </tr>\n",
       "  </tbody>\n",
       "</table>\n",
       "</div>"
      ],
      "text/plain": [
       "   index  CustomerID  Recency  Frequency  Monetary  R  F  M RFMGroup  \\\n",
       "0      0     12346.0      326         12  77556.46  3  1  1      311   \n",
       "1      1     12608.0      405          1    415.79  4  4  3      443   \n",
       "2      2     12745.0      487          2    723.85  4  3  3      433   \n",
       "3      3     12746.0      541          1    254.55  4  4  4      444   \n",
       "4      4     12747.0        3         26   9276.54  1  1  1      111   \n",
       "\n",
       "   RFMScore RFM_Loyalty_Level  \n",
       "0         5          Platinum  \n",
       "1        11            Bronze  \n",
       "2        10            Silver  \n",
       "3        12            Bronze  \n",
       "4         3          Platinum  "
      ]
     },
     "execution_count": 36,
     "metadata": {},
     "output_type": "execute_result"
    }
   ],
   "source": [
    "#Assign Loyalty Level to each customer\n",
    "Loyalty_Level = ['Platinum', 'Gold', 'Silver', 'Bronze']\n",
    "Score_cuts = pd.qcut(rfm.RFMScore, q = 4, labels = Loyalty_Level)\n",
    "rfm['RFM_Loyalty_Level'] = Score_cuts.values\n",
    "rfm.reset_index().head()"
   ]
  },
  {
   "cell_type": "code",
   "execution_count": 37,
   "id": "c7ce4e39",
   "metadata": {
    "execution": {
     "iopub.execute_input": "2022-05-26T15:24:51.618275Z",
     "iopub.status.busy": "2022-05-26T15:24:51.617755Z",
     "iopub.status.idle": "2022-05-26T15:24:51.633490Z",
     "shell.execute_reply": "2022-05-26T15:24:51.632958Z"
    },
    "papermill": {
     "duration": 0.078593,
     "end_time": "2022-05-26T15:24:51.635070",
     "exception": false,
     "start_time": "2022-05-26T15:24:51.556477",
     "status": "completed"
    },
    "tags": []
   },
   "outputs": [
    {
     "data": {
      "text/html": [
       "<div>\n",
       "<style scoped>\n",
       "    .dataframe tbody tr th:only-of-type {\n",
       "        vertical-align: middle;\n",
       "    }\n",
       "\n",
       "    .dataframe tbody tr th {\n",
       "        vertical-align: top;\n",
       "    }\n",
       "\n",
       "    .dataframe thead th {\n",
       "        text-align: right;\n",
       "    }\n",
       "</style>\n",
       "<table border=\"1\" class=\"dataframe\">\n",
       "  <thead>\n",
       "    <tr style=\"text-align: right;\">\n",
       "      <th></th>\n",
       "      <th>index</th>\n",
       "      <th>CustomerID</th>\n",
       "      <th>Recency</th>\n",
       "      <th>Frequency</th>\n",
       "      <th>Monetary</th>\n",
       "      <th>R</th>\n",
       "      <th>F</th>\n",
       "      <th>M</th>\n",
       "      <th>RFMGroup</th>\n",
       "      <th>RFMScore</th>\n",
       "      <th>RFM_Loyalty_Level</th>\n",
       "    </tr>\n",
       "  </thead>\n",
       "  <tbody>\n",
       "    <tr>\n",
       "      <th>0</th>\n",
       "      <td>5165</td>\n",
       "      <td>18102.0</td>\n",
       "      <td>1</td>\n",
       "      <td>145</td>\n",
       "      <td>608821.65</td>\n",
       "      <td>1</td>\n",
       "      <td>1</td>\n",
       "      <td>1</td>\n",
       "      <td>111</td>\n",
       "      <td>3</td>\n",
       "      <td>Platinum</td>\n",
       "    </tr>\n",
       "    <tr>\n",
       "      <th>1</th>\n",
       "      <td>4527</td>\n",
       "      <td>17450.0</td>\n",
       "      <td>9</td>\n",
       "      <td>51</td>\n",
       "      <td>246973.09</td>\n",
       "      <td>1</td>\n",
       "      <td>1</td>\n",
       "      <td>1</td>\n",
       "      <td>111</td>\n",
       "      <td>3</td>\n",
       "      <td>Platinum</td>\n",
       "    </tr>\n",
       "    <tr>\n",
       "      <th>2</th>\n",
       "      <td>857</td>\n",
       "      <td>13694.0</td>\n",
       "      <td>4</td>\n",
       "      <td>143</td>\n",
       "      <td>196482.81</td>\n",
       "      <td>1</td>\n",
       "      <td>1</td>\n",
       "      <td>1</td>\n",
       "      <td>111</td>\n",
       "      <td>3</td>\n",
       "      <td>Platinum</td>\n",
       "    </tr>\n",
       "    <tr>\n",
       "      <th>3</th>\n",
       "      <td>4585</td>\n",
       "      <td>17511.0</td>\n",
       "      <td>3</td>\n",
       "      <td>60</td>\n",
       "      <td>175603.55</td>\n",
       "      <td>1</td>\n",
       "      <td>1</td>\n",
       "      <td>1</td>\n",
       "      <td>111</td>\n",
       "      <td>3</td>\n",
       "      <td>Platinum</td>\n",
       "    </tr>\n",
       "    <tr>\n",
       "      <th>4</th>\n",
       "      <td>3776</td>\n",
       "      <td>16684.0</td>\n",
       "      <td>5</td>\n",
       "      <td>55</td>\n",
       "      <td>147142.77</td>\n",
       "      <td>1</td>\n",
       "      <td>1</td>\n",
       "      <td>1</td>\n",
       "      <td>111</td>\n",
       "      <td>3</td>\n",
       "      <td>Platinum</td>\n",
       "    </tr>\n",
       "  </tbody>\n",
       "</table>\n",
       "</div>"
      ],
      "text/plain": [
       "   index  CustomerID  Recency  Frequency   Monetary  R  F  M RFMGroup  \\\n",
       "0   5165     18102.0        1        145  608821.65  1  1  1      111   \n",
       "1   4527     17450.0        9         51  246973.09  1  1  1      111   \n",
       "2    857     13694.0        4        143  196482.81  1  1  1      111   \n",
       "3   4585     17511.0        3         60  175603.55  1  1  1      111   \n",
       "4   3776     16684.0        5         55  147142.77  1  1  1      111   \n",
       "\n",
       "   RFMScore RFM_Loyalty_Level  \n",
       "0         3          Platinum  \n",
       "1         3          Platinum  \n",
       "2         3          Platinum  \n",
       "3         3          Platinum  \n",
       "4         3          Platinum  "
      ]
     },
     "execution_count": 37,
     "metadata": {},
     "output_type": "execute_result"
    }
   ],
   "source": [
    "#Validate the data for RFMGroup = 111\n",
    "rfm[rfm['RFMGroup']=='111'].sort_values('Monetary', ascending=False).reset_index().head()"
   ]
  },
  {
   "cell_type": "code",
   "execution_count": null,
   "id": "8bb1f528",
   "metadata": {
    "papermill": {
     "duration": 0.060653,
     "end_time": "2022-05-26T15:24:51.756605",
     "exception": false,
     "start_time": "2022-05-26T15:24:51.695952",
     "status": "completed"
    },
    "tags": []
   },
   "outputs": [],
   "source": []
  },
  {
   "cell_type": "code",
   "execution_count": null,
   "id": "259e9553",
   "metadata": {
    "papermill": {
     "duration": 0.060183,
     "end_time": "2022-05-26T15:24:51.878975",
     "exception": false,
     "start_time": "2022-05-26T15:24:51.818792",
     "status": "completed"
    },
    "tags": []
   },
   "outputs": [],
   "source": []
  },
  {
   "cell_type": "markdown",
   "id": "38fe62dd",
   "metadata": {
    "papermill": {
     "duration": 0.061125,
     "end_time": "2022-05-26T15:24:52.001049",
     "exception": false,
     "start_time": "2022-05-26T15:24:51.939924",
     "status": "completed"
    },
    "tags": []
   },
   "source": [
    "## Feature Transformation"
   ]
  },
  {
   "cell_type": "code",
   "execution_count": 38,
   "id": "64bf5028",
   "metadata": {
    "execution": {
     "iopub.execute_input": "2022-05-26T15:24:52.125673Z",
     "iopub.status.busy": "2022-05-26T15:24:52.124808Z",
     "iopub.status.idle": "2022-05-26T15:24:52.816000Z",
     "shell.execute_reply": "2022-05-26T15:24:52.815201Z"
    },
    "papermill": {
     "duration": 0.755848,
     "end_time": "2022-05-26T15:24:52.817995",
     "exception": false,
     "start_time": "2022-05-26T15:24:52.062147",
     "status": "completed"
    },
    "tags": []
   },
   "outputs": [
    {
     "data": {
      "text/plain": [
       "<AxesSubplot:xlabel='Monetary', ylabel='Density'>"
      ]
     },
     "execution_count": 38,
     "metadata": {},
     "output_type": "execute_result"
    },
    {
     "data": {
      "image/png": "[encoded data removed]",
      "text/plain": [
       "<Figure size 1440x360 with 3 Axes>"
      ]
     },
     "metadata": {
      "needs_background": "light"
     },
     "output_type": "display_data"
    }
   ],
   "source": [
    "#Plot data distribution\n",
    "plt.figure(figsize=(20,5))\n",
    "\n",
    "plt.subplot(1,3,1)\n",
    "sns.distplot(rfm['Recency'])\n",
    "\n",
    "plt.subplot(1,3,2)\n",
    "sns.distplot(rfm['Frequency'])\n",
    "\n",
    "plt.subplot(1,3,3)\n",
    "sns.distplot(rfm['Monetary'])"
   ]
  },
  {
   "cell_type": "code",
   "execution_count": 39,
   "id": "8d732b5a",
   "metadata": {
    "execution": {
     "iopub.execute_input": "2022-05-26T15:24:52.946510Z",
     "iopub.status.busy": "2022-05-26T15:24:52.946042Z",
     "iopub.status.idle": "2022-05-26T15:24:52.952383Z",
     "shell.execute_reply": "2022-05-26T15:24:52.951836Z"
    },
    "papermill": {
     "duration": 0.072628,
     "end_time": "2022-05-26T15:24:52.954015",
     "exception": false,
     "start_time": "2022-05-26T15:24:52.881387",
     "status": "completed"
    },
    "tags": []
   },
   "outputs": [],
   "source": [
    "#apply log transformation \n",
    "rfm_log = rfm[['Recency', 'Frequency', 'Monetary']].apply(np.log, axis=1).round(3)"
   ]
  },
  {
   "cell_type": "code",
   "execution_count": 40,
   "id": "8767efef",
   "metadata": {
    "execution": {
     "iopub.execute_input": "2022-05-26T15:24:53.081624Z",
     "iopub.status.busy": "2022-05-26T15:24:53.080881Z",
     "iopub.status.idle": "2022-05-26T15:24:53.090681Z",
     "shell.execute_reply": "2022-05-26T15:24:53.090143Z"
    },
    "papermill": {
     "duration": 0.075256,
     "end_time": "2022-05-26T15:24:53.092360",
     "exception": false,
     "start_time": "2022-05-26T15:24:53.017104",
     "status": "completed"
    },
    "tags": []
   },
   "outputs": [
    {
     "data": {
      "text/html": [
       "<div>\n",
       "<style scoped>\n",
       "    .dataframe tbody tr th:only-of-type {\n",
       "        vertical-align: middle;\n",
       "    }\n",
       "\n",
       "    .dataframe tbody tr th {\n",
       "        vertical-align: top;\n",
       "    }\n",
       "\n",
       "    .dataframe thead th {\n",
       "        text-align: right;\n",
       "    }\n",
       "</style>\n",
       "<table border=\"1\" class=\"dataframe\">\n",
       "  <thead>\n",
       "    <tr style=\"text-align: right;\">\n",
       "      <th></th>\n",
       "      <th>Recency</th>\n",
       "      <th>Frequency</th>\n",
       "      <th>Monetary</th>\n",
       "    </tr>\n",
       "  </thead>\n",
       "  <tbody>\n",
       "    <tr>\n",
       "      <th>0</th>\n",
       "      <td>5.787</td>\n",
       "      <td>2.485</td>\n",
       "      <td>11.259</td>\n",
       "    </tr>\n",
       "    <tr>\n",
       "      <th>1</th>\n",
       "      <td>6.004</td>\n",
       "      <td>0.000</td>\n",
       "      <td>6.030</td>\n",
       "    </tr>\n",
       "    <tr>\n",
       "      <th>2</th>\n",
       "      <td>6.188</td>\n",
       "      <td>0.693</td>\n",
       "      <td>6.585</td>\n",
       "    </tr>\n",
       "    <tr>\n",
       "      <th>3</th>\n",
       "      <td>6.293</td>\n",
       "      <td>0.000</td>\n",
       "      <td>5.539</td>\n",
       "    </tr>\n",
       "    <tr>\n",
       "      <th>4</th>\n",
       "      <td>1.099</td>\n",
       "      <td>3.258</td>\n",
       "      <td>9.135</td>\n",
       "    </tr>\n",
       "  </tbody>\n",
       "</table>\n",
       "</div>"
      ],
      "text/plain": [
       "   Recency  Frequency  Monetary\n",
       "0    5.787      2.485    11.259\n",
       "1    6.004      0.000     6.030\n",
       "2    6.188      0.693     6.585\n",
       "3    6.293      0.000     5.539\n",
       "4    1.099      3.258     9.135"
      ]
     },
     "execution_count": 40,
     "metadata": {},
     "output_type": "execute_result"
    }
   ],
   "source": [
    "rfm_log.head()"
   ]
  },
  {
   "cell_type": "code",
   "execution_count": 41,
   "id": "371ec2c3",
   "metadata": {
    "execution": {
     "iopub.execute_input": "2022-05-26T15:24:53.221760Z",
     "iopub.status.busy": "2022-05-26T15:24:53.220874Z",
     "iopub.status.idle": "2022-05-26T15:24:53.933425Z",
     "shell.execute_reply": "2022-05-26T15:24:53.932589Z"
    },
    "papermill": {
     "duration": 0.779474,
     "end_time": "2022-05-26T15:24:53.935516",
     "exception": false,
     "start_time": "2022-05-26T15:24:53.156042",
     "status": "completed"
    },
    "tags": []
   },
   "outputs": [
    {
     "data": {
      "text/plain": [
       "<AxesSubplot:xlabel='Monetary', ylabel='Density'>"
      ]
     },
     "execution_count": 41,
     "metadata": {},
     "output_type": "execute_result"
    },
    {
     "data": {
      "image/png": "[encoded data removed]",
      "text/plain": [
       "<Figure size 1440x360 with 3 Axes>"
      ]
     },
     "metadata": {
      "needs_background": "light"
     },
     "output_type": "display_data"
    }
   ],
   "source": [
    "#Plot data distribution after log transformation\n",
    "plt.figure(figsize=(20,5))\n",
    "\n",
    "plt.subplot(1,3,1)\n",
    "sns.distplot(rfm_log['Recency'])\n",
    "\n",
    "plt.subplot(1,3,2)\n",
    "sns.distplot(rfm_log['Frequency'])\n",
    "\n",
    "plt.subplot(1,3,3)\n",
    "sns.distplot(rfm_log['Monetary'])"
   ]
  },
  {
   "cell_type": "code",
   "execution_count": 42,
   "id": "88090fda",
   "metadata": {
    "execution": {
     "iopub.execute_input": "2022-05-26T15:24:54.070026Z",
     "iopub.status.busy": "2022-05-26T15:24:54.069618Z",
     "iopub.status.idle": "2022-05-26T15:24:54.086420Z",
     "shell.execute_reply": "2022-05-26T15:24:54.085859Z"
    },
    "papermill": {
     "duration": 0.086416,
     "end_time": "2022-05-26T15:24:54.088096",
     "exception": false,
     "start_time": "2022-05-26T15:24:54.001680",
     "status": "completed"
    },
    "tags": []
   },
   "outputs": [
    {
     "data": {
      "text/html": [
       "<div>\n",
       "<style scoped>\n",
       "    .dataframe tbody tr th:only-of-type {\n",
       "        vertical-align: middle;\n",
       "    }\n",
       "\n",
       "    .dataframe tbody tr th {\n",
       "        vertical-align: top;\n",
       "    }\n",
       "\n",
       "    .dataframe thead th {\n",
       "        text-align: right;\n",
       "    }\n",
       "</style>\n",
       "<table border=\"1\" class=\"dataframe\">\n",
       "  <thead>\n",
       "    <tr style=\"text-align: right;\">\n",
       "      <th></th>\n",
       "      <th>Recency</th>\n",
       "      <th>Frequency</th>\n",
       "      <th>Monetary</th>\n",
       "    </tr>\n",
       "  </thead>\n",
       "  <tbody>\n",
       "    <tr>\n",
       "      <th>count</th>\n",
       "      <td>5350.000000</td>\n",
       "      <td>5350.000000</td>\n",
       "      <td>5350.000000</td>\n",
       "    </tr>\n",
       "    <tr>\n",
       "      <th>mean</th>\n",
       "      <td>4.442442</td>\n",
       "      <td>1.208028</td>\n",
       "      <td>6.793477</td>\n",
       "    </tr>\n",
       "    <tr>\n",
       "      <th>std</th>\n",
       "      <td>1.596148</td>\n",
       "      <td>1.030144</td>\n",
       "      <td>1.380669</td>\n",
       "    </tr>\n",
       "    <tr>\n",
       "      <th>min</th>\n",
       "      <td>0.000000</td>\n",
       "      <td>0.000000</td>\n",
       "      <td>1.082000</td>\n",
       "    </tr>\n",
       "    <tr>\n",
       "      <th>25%</th>\n",
       "      <td>3.258000</td>\n",
       "      <td>0.000000</td>\n",
       "      <td>5.817250</td>\n",
       "    </tr>\n",
       "    <tr>\n",
       "      <th>50%</th>\n",
       "      <td>4.595000</td>\n",
       "      <td>1.099000</td>\n",
       "      <td>6.745000</td>\n",
       "    </tr>\n",
       "    <tr>\n",
       "      <th>75%</th>\n",
       "      <td>5.945000</td>\n",
       "      <td>1.946000</td>\n",
       "      <td>7.702750</td>\n",
       "    </tr>\n",
       "    <tr>\n",
       "      <th>max</th>\n",
       "      <td>6.605000</td>\n",
       "      <td>5.817000</td>\n",
       "      <td>13.319000</td>\n",
       "    </tr>\n",
       "  </tbody>\n",
       "</table>\n",
       "</div>"
      ],
      "text/plain": [
       "           Recency    Frequency     Monetary\n",
       "count  5350.000000  5350.000000  5350.000000\n",
       "mean      4.442442     1.208028     6.793477\n",
       "std       1.596148     1.030144     1.380669\n",
       "min       0.000000     0.000000     1.082000\n",
       "25%       3.258000     0.000000     5.817250\n",
       "50%       4.595000     1.099000     6.745000\n",
       "75%       5.945000     1.946000     7.702750\n",
       "max       6.605000     5.817000    13.319000"
      ]
     },
     "execution_count": 42,
     "metadata": {},
     "output_type": "execute_result"
    }
   ],
   "source": [
    "rfm_log.describe()"
   ]
  },
  {
   "cell_type": "markdown",
   "id": "8b358124",
   "metadata": {
    "papermill": {
     "duration": 0.065416,
     "end_time": "2022-05-26T15:24:54.218403",
     "exception": false,
     "start_time": "2022-05-26T15:24:54.152987",
     "status": "completed"
    },
    "tags": []
   },
   "source": [
    "## Feature Scaling"
   ]
  },
  {
   "cell_type": "code",
   "execution_count": 43,
   "id": "f5073bdd",
   "metadata": {
    "execution": {
     "iopub.execute_input": "2022-05-26T15:24:54.349962Z",
     "iopub.status.busy": "2022-05-26T15:24:54.349431Z",
     "iopub.status.idle": "2022-05-26T15:24:54.355585Z",
     "shell.execute_reply": "2022-05-26T15:24:54.355061Z"
    },
    "papermill": {
     "duration": 0.073587,
     "end_time": "2022-05-26T15:24:54.357203",
     "exception": false,
     "start_time": "2022-05-26T15:24:54.283616",
     "status": "completed"
    },
    "tags": []
   },
   "outputs": [],
   "source": [
    "scaler = StandardScaler()\n",
    "rfm_scaled = scaler.fit_transform(rfm_log)"
   ]
  },
  {
   "cell_type": "code",
   "execution_count": 44,
   "id": "ff45f84f",
   "metadata": {
    "execution": {
     "iopub.execute_input": "2022-05-26T15:24:54.489323Z",
     "iopub.status.busy": "2022-05-26T15:24:54.488834Z",
     "iopub.status.idle": "2022-05-26T15:24:54.497715Z",
     "shell.execute_reply": "2022-05-26T15:24:54.496975Z"
    },
    "papermill": {
     "duration": 0.077472,
     "end_time": "2022-05-26T15:24:54.499309",
     "exception": false,
     "start_time": "2022-05-26T15:24:54.421837",
     "status": "completed"
    },
    "tags": []
   },
   "outputs": [
    {
     "data": {
      "text/html": [
       "<div>\n",
       "<style scoped>\n",
       "    .dataframe tbody tr th:only-of-type {\n",
       "        vertical-align: middle;\n",
       "    }\n",
       "\n",
       "    .dataframe tbody tr th {\n",
       "        vertical-align: top;\n",
       "    }\n",
       "\n",
       "    .dataframe thead th {\n",
       "        text-align: right;\n",
       "    }\n",
       "</style>\n",
       "<table border=\"1\" class=\"dataframe\">\n",
       "  <thead>\n",
       "    <tr style=\"text-align: right;\">\n",
       "      <th></th>\n",
       "      <th>Recency</th>\n",
       "      <th>Frequency</th>\n",
       "      <th>Monetary</th>\n",
       "    </tr>\n",
       "  </thead>\n",
       "  <tbody>\n",
       "    <tr>\n",
       "      <th>0</th>\n",
       "      <td>0.842456</td>\n",
       "      <td>1.239721</td>\n",
       "      <td>3.234622</td>\n",
       "    </tr>\n",
       "    <tr>\n",
       "      <th>1</th>\n",
       "      <td>0.978421</td>\n",
       "      <td>-1.172788</td>\n",
       "      <td>-0.553028</td>\n",
       "    </tr>\n",
       "    <tr>\n",
       "      <th>2</th>\n",
       "      <td>1.093709</td>\n",
       "      <td>-0.500003</td>\n",
       "      <td>-0.151011</td>\n",
       "    </tr>\n",
       "    <tr>\n",
       "      <th>3</th>\n",
       "      <td>1.159499</td>\n",
       "      <td>-1.172788</td>\n",
       "      <td>-0.908686</td>\n",
       "    </tr>\n",
       "    <tr>\n",
       "      <th>4</th>\n",
       "      <td>-2.094890</td>\n",
       "      <td>1.990171</td>\n",
       "      <td>1.696093</td>\n",
       "    </tr>\n",
       "  </tbody>\n",
       "</table>\n",
       "</div>"
      ],
      "text/plain": [
       "    Recency  Frequency  Monetary\n",
       "0  0.842456   1.239721  3.234622\n",
       "1  0.978421  -1.172788 -0.553028\n",
       "2  1.093709  -0.500003 -0.151011\n",
       "3  1.159499  -1.172788 -0.908686\n",
       "4 -2.094890   1.990171  1.696093"
      ]
     },
     "execution_count": 44,
     "metadata": {},
     "output_type": "execute_result"
    }
   ],
   "source": [
    "rfm_scaled = pd.DataFrame(rfm_scaled, index=rfm.index, columns= rfm_log.columns)\n",
    "rfm_scaled.head()"
   ]
  },
  {
   "cell_type": "markdown",
   "id": "7998ff69",
   "metadata": {
    "papermill": {
     "duration": 0.065354,
     "end_time": "2022-05-26T15:24:54.629675",
     "exception": false,
     "start_time": "2022-05-26T15:24:54.564321",
     "status": "completed"
    },
    "tags": []
   },
   "source": [
    "## K-Means clustering"
   ]
  },
  {
   "cell_type": "markdown",
   "id": "0291543b",
   "metadata": {
    "papermill": {
     "duration": 0.066045,
     "end_time": "2022-05-26T15:24:54.761062",
     "exception": false,
     "start_time": "2022-05-26T15:24:54.695017",
     "status": "completed"
    },
    "tags": []
   },
   "source": [
    "**Highlevel overview of K-Means algorithm:**\n",
    "* Vectorize feature values to define n-dimensional coordinates\n",
    "* **Decide value of 'K'** -> K is the number of clusters\n",
    "* K number of clusters are created with K centroids\n",
    "* Each datapoint is assigned to nearest cluster\n",
    "* New centroids are chosen based on Euclidian distance\n",
    "* Data points are reassigned to nearest cluster\n",
    "* The above steps are repeated untill there are no change."
   ]
  },
  {
   "cell_type": "markdown",
   "id": "89e10bee",
   "metadata": {
    "papermill": {
     "duration": 0.065821,
     "end_time": "2022-05-26T15:24:54.894803",
     "exception": false,
     "start_time": "2022-05-26T15:24:54.828982",
     "status": "completed"
    },
    "tags": []
   },
   "source": [
    "* From the above explanation it can be observed that the value of **K** needs to be determined before hand.\n",
    "* **Elbow Method** is used to find the optimal value of K"
   ]
  },
  {
   "cell_type": "code",
   "execution_count": 45,
   "id": "db542f77",
   "metadata": {
    "execution": {
     "iopub.execute_input": "2022-05-26T15:24:55.027443Z",
     "iopub.status.busy": "2022-05-26T15:24:55.027193Z",
     "iopub.status.idle": "2022-05-26T15:25:05.764858Z",
     "shell.execute_reply": "2022-05-26T15:25:05.763921Z"
    },
    "papermill": {
     "duration": 10.806706,
     "end_time": "2022-05-26T15:25:05.766863",
     "exception": false,
     "start_time": "2022-05-26T15:24:54.960157",
     "status": "completed"
    },
    "tags": []
   },
   "outputs": [
    {
     "data": {
      "image/png": "[encoded data removed]",
      "text/plain": [
       "<Figure size 432x288 with 1 Axes>"
      ]
     },
     "metadata": {
      "needs_background": "light"
     },
     "output_type": "display_data"
    }
   ],
   "source": [
    "#wcss stands for within cluster sum of squares\n",
    "wcss={}\n",
    "\n",
    "for k in range(1,15):\n",
    "    km = KMeans(n_clusters=k, init='k-means++', max_iter=1000 , random_state=20)\n",
    "    km = km.fit(rfm_scaled)\n",
    "    wcss[k] = km.inertia_\n",
    "    \n",
    "#Plot graph for the wcss values and the number of clusters\n",
    "sns.pointplot(x=list(wcss.keys()), y=list(wcss.values()))\n",
    "plt.xlabel('Number of clusters K')\n",
    "plt.ylabel('Sum of square distances')\n",
    "plt.title('Elbow method for optimal K')\n",
    "plt.show()"
   ]
  },
  {
   "cell_type": "markdown",
   "id": "53b0fa23",
   "metadata": {
    "papermill": {
     "duration": 0.068016,
     "end_time": "2022-05-26T15:25:05.903560",
     "exception": false,
     "start_time": "2022-05-26T15:25:05.835544",
     "status": "completed"
    },
    "tags": []
   },
   "source": [
    "**Observation:** Choose the value K=4"
   ]
  },
  {
   "cell_type": "code",
   "execution_count": 46,
   "id": "27c31f55",
   "metadata": {
    "execution": {
     "iopub.execute_input": "2022-05-26T15:25:06.038445Z",
     "iopub.status.busy": "2022-05-26T15:25:06.038122Z",
     "iopub.status.idle": "2022-05-26T15:25:06.542874Z",
     "shell.execute_reply": "2022-05-26T15:25:06.541744Z"
    },
    "papermill": {
     "duration": 0.57474,
     "end_time": "2022-05-26T15:25:06.544848",
     "exception": false,
     "start_time": "2022-05-26T15:25:05.970108",
     "status": "completed"
    },
    "tags": []
   },
   "outputs": [
    {
     "data": {
      "text/html": [
       "<div>\n",
       "<style scoped>\n",
       "    .dataframe tbody tr th:only-of-type {\n",
       "        vertical-align: middle;\n",
       "    }\n",
       "\n",
       "    .dataframe tbody tr th {\n",
       "        vertical-align: top;\n",
       "    }\n",
       "\n",
       "    .dataframe thead th {\n",
       "        text-align: right;\n",
       "    }\n",
       "</style>\n",
       "<table border=\"1\" class=\"dataframe\">\n",
       "  <thead>\n",
       "    <tr style=\"text-align: right;\">\n",
       "      <th></th>\n",
       "      <th>CustomerID</th>\n",
       "      <th>Recency</th>\n",
       "      <th>Frequency</th>\n",
       "      <th>Monetary</th>\n",
       "      <th>R</th>\n",
       "      <th>F</th>\n",
       "      <th>M</th>\n",
       "      <th>RFMGroup</th>\n",
       "      <th>RFMScore</th>\n",
       "      <th>RFM_Loyalty_Level</th>\n",
       "      <th>Cluster</th>\n",
       "    </tr>\n",
       "  </thead>\n",
       "  <tbody>\n",
       "    <tr>\n",
       "      <th>0</th>\n",
       "      <td>12346.0</td>\n",
       "      <td>326</td>\n",
       "      <td>12</td>\n",
       "      <td>77556.46</td>\n",
       "      <td>3</td>\n",
       "      <td>1</td>\n",
       "      <td>1</td>\n",
       "      <td>311</td>\n",
       "      <td>5</td>\n",
       "      <td>Platinum</td>\n",
       "      <td>1</td>\n",
       "    </tr>\n",
       "    <tr>\n",
       "      <th>1</th>\n",
       "      <td>12608.0</td>\n",
       "      <td>405</td>\n",
       "      <td>1</td>\n",
       "      <td>415.79</td>\n",
       "      <td>4</td>\n",
       "      <td>4</td>\n",
       "      <td>3</td>\n",
       "      <td>443</td>\n",
       "      <td>11</td>\n",
       "      <td>Bronze</td>\n",
       "      <td>3</td>\n",
       "    </tr>\n",
       "    <tr>\n",
       "      <th>2</th>\n",
       "      <td>12745.0</td>\n",
       "      <td>487</td>\n",
       "      <td>2</td>\n",
       "      <td>723.85</td>\n",
       "      <td>4</td>\n",
       "      <td>3</td>\n",
       "      <td>3</td>\n",
       "      <td>433</td>\n",
       "      <td>10</td>\n",
       "      <td>Silver</td>\n",
       "      <td>3</td>\n",
       "    </tr>\n",
       "    <tr>\n",
       "      <th>3</th>\n",
       "      <td>12746.0</td>\n",
       "      <td>541</td>\n",
       "      <td>1</td>\n",
       "      <td>254.55</td>\n",
       "      <td>4</td>\n",
       "      <td>4</td>\n",
       "      <td>4</td>\n",
       "      <td>444</td>\n",
       "      <td>12</td>\n",
       "      <td>Bronze</td>\n",
       "      <td>3</td>\n",
       "    </tr>\n",
       "    <tr>\n",
       "      <th>4</th>\n",
       "      <td>12747.0</td>\n",
       "      <td>3</td>\n",
       "      <td>26</td>\n",
       "      <td>9276.54</td>\n",
       "      <td>1</td>\n",
       "      <td>1</td>\n",
       "      <td>1</td>\n",
       "      <td>111</td>\n",
       "      <td>3</td>\n",
       "      <td>Platinum</td>\n",
       "      <td>1</td>\n",
       "    </tr>\n",
       "  </tbody>\n",
       "</table>\n",
       "</div>"
      ],
      "text/plain": [
       "   CustomerID  Recency  Frequency  Monetary  R  F  M RFMGroup  RFMScore  \\\n",
       "0     12346.0      326         12  77556.46  3  1  1      311         5   \n",
       "1     12608.0      405          1    415.79  4  4  3      443        11   \n",
       "2     12745.0      487          2    723.85  4  3  3      433        10   \n",
       "3     12746.0      541          1    254.55  4  4  4      444        12   \n",
       "4     12747.0        3         26   9276.54  1  1  1      111         3   \n",
       "\n",
       "  RFM_Loyalty_Level  Cluster  \n",
       "0          Platinum        1  \n",
       "1            Bronze        3  \n",
       "2            Silver        3  \n",
       "3            Bronze        3  \n",
       "4          Platinum        1  "
      ]
     },
     "execution_count": 46,
     "metadata": {},
     "output_type": "execute_result"
    }
   ],
   "source": [
    "#Build K Means clustering model using K=4\n",
    "kmean_model = KMeans(n_clusters=4, init='k-means++', max_iter=1000, random_state=20)\n",
    "kmean_model.fit(rfm_scaled)\n",
    "\n",
    "#find the clusters for the records given in our dataset\n",
    "rfm['Cluster'] = kmean_model.labels_\n",
    "\n",
    "#check the datset\n",
    "rfm.head()"
   ]
  },
  {
   "cell_type": "code",
   "execution_count": 47,
   "id": "ca2e1380",
   "metadata": {
    "execution": {
     "iopub.execute_input": "2022-05-26T15:25:06.685252Z",
     "iopub.status.busy": "2022-05-26T15:25:06.684945Z",
     "iopub.status.idle": "2022-05-26T15:25:06.692353Z",
     "shell.execute_reply": "2022-05-26T15:25:06.691631Z"
    },
    "papermill": {
     "duration": 0.080482,
     "end_time": "2022-05-26T15:25:06.694318",
     "exception": false,
     "start_time": "2022-05-26T15:25:06.613836",
     "status": "completed"
    },
    "tags": []
   },
   "outputs": [
    {
     "data": {
      "text/plain": [
       "3    1802\n",
       "2    1387\n",
       "1    1096\n",
       "0    1065\n",
       "Name: Cluster, dtype: int64"
      ]
     },
     "execution_count": 47,
     "metadata": {},
     "output_type": "execute_result"
    }
   ],
   "source": [
    "rfm.Cluster.value_counts()"
   ]
  },
  {
   "cell_type": "code",
   "execution_count": 48,
   "id": "2b3ac19f",
   "metadata": {
    "execution": {
     "iopub.execute_input": "2022-05-26T15:25:06.830689Z",
     "iopub.status.busy": "2022-05-26T15:25:06.830174Z",
     "iopub.status.idle": "2022-05-26T15:25:06.865793Z",
     "shell.execute_reply": "2022-05-26T15:25:06.864785Z"
    },
    "papermill": {
     "duration": 0.10614,
     "end_time": "2022-05-26T15:25:06.867748",
     "exception": false,
     "start_time": "2022-05-26T15:25:06.761608",
     "status": "completed"
    },
    "tags": []
   },
   "outputs": [
    {
     "data": {
      "text/html": [
       "<div>\n",
       "<style scoped>\n",
       "    .dataframe tbody tr th:only-of-type {\n",
       "        vertical-align: middle;\n",
       "    }\n",
       "\n",
       "    .dataframe tbody tr th {\n",
       "        vertical-align: top;\n",
       "    }\n",
       "\n",
       "    .dataframe thead th {\n",
       "        text-align: right;\n",
       "    }\n",
       "</style>\n",
       "<table border=\"1\" class=\"dataframe\">\n",
       "  <thead>\n",
       "    <tr style=\"text-align: right;\">\n",
       "      <th></th>\n",
       "      <th>CustomerID</th>\n",
       "      <th>Recency</th>\n",
       "      <th>Frequency</th>\n",
       "      <th>Monetary</th>\n",
       "      <th>R</th>\n",
       "      <th>F</th>\n",
       "      <th>M</th>\n",
       "      <th>RFMScore</th>\n",
       "      <th>Cluster</th>\n",
       "    </tr>\n",
       "  </thead>\n",
       "  <tbody>\n",
       "    <tr>\n",
       "      <th>count</th>\n",
       "      <td>1065.000000</td>\n",
       "      <td>1065.000000</td>\n",
       "      <td>1065.000000</td>\n",
       "      <td>1065.000000</td>\n",
       "      <td>1065.000000</td>\n",
       "      <td>1065.000000</td>\n",
       "      <td>1065.000000</td>\n",
       "      <td>1065.000000</td>\n",
       "      <td>1065.0</td>\n",
       "    </tr>\n",
       "    <tr>\n",
       "      <th>mean</th>\n",
       "      <td>15608.415023</td>\n",
       "      <td>28.242254</td>\n",
       "      <td>3.116432</td>\n",
       "      <td>834.253251</td>\n",
       "      <td>1.430986</td>\n",
       "      <td>2.794366</td>\n",
       "      <td>2.723944</td>\n",
       "      <td>6.949296</td>\n",
       "      <td>0.0</td>\n",
       "    </tr>\n",
       "    <tr>\n",
       "      <th>std</th>\n",
       "      <td>1577.888369</td>\n",
       "      <td>20.335843</td>\n",
       "      <td>1.624403</td>\n",
       "      <td>536.992101</td>\n",
       "      <td>0.497340</td>\n",
       "      <td>0.689588</td>\n",
       "      <td>0.741391</td>\n",
       "      <td>1.372824</td>\n",
       "      <td>0.0</td>\n",
       "    </tr>\n",
       "    <tr>\n",
       "      <th>min</th>\n",
       "      <td>12822.000000</td>\n",
       "      <td>1.000000</td>\n",
       "      <td>1.000000</td>\n",
       "      <td>49.800000</td>\n",
       "      <td>1.000000</td>\n",
       "      <td>1.000000</td>\n",
       "      <td>1.000000</td>\n",
       "      <td>4.000000</td>\n",
       "      <td>0.0</td>\n",
       "    </tr>\n",
       "    <tr>\n",
       "      <th>25%</th>\n",
       "      <td>14289.000000</td>\n",
       "      <td>12.000000</td>\n",
       "      <td>2.000000</td>\n",
       "      <td>423.800000</td>\n",
       "      <td>1.000000</td>\n",
       "      <td>2.000000</td>\n",
       "      <td>2.000000</td>\n",
       "      <td>6.000000</td>\n",
       "      <td>0.0</td>\n",
       "    </tr>\n",
       "    <tr>\n",
       "      <th>50%</th>\n",
       "      <td>15594.000000</td>\n",
       "      <td>24.000000</td>\n",
       "      <td>3.000000</td>\n",
       "      <td>741.920000</td>\n",
       "      <td>1.000000</td>\n",
       "      <td>3.000000</td>\n",
       "      <td>3.000000</td>\n",
       "      <td>7.000000</td>\n",
       "      <td>0.0</td>\n",
       "    </tr>\n",
       "    <tr>\n",
       "      <th>75%</th>\n",
       "      <td>16969.000000</td>\n",
       "      <td>39.000000</td>\n",
       "      <td>4.000000</td>\n",
       "      <td>1114.720000</td>\n",
       "      <td>2.000000</td>\n",
       "      <td>3.000000</td>\n",
       "      <td>3.000000</td>\n",
       "      <td>8.000000</td>\n",
       "      <td>0.0</td>\n",
       "    </tr>\n",
       "    <tr>\n",
       "      <th>max</th>\n",
       "      <td>18282.000000</td>\n",
       "      <td>100.000000</td>\n",
       "      <td>14.000000</td>\n",
       "      <td>3861.000000</td>\n",
       "      <td>3.000000</td>\n",
       "      <td>4.000000</td>\n",
       "      <td>4.000000</td>\n",
       "      <td>10.000000</td>\n",
       "      <td>0.0</td>\n",
       "    </tr>\n",
       "  </tbody>\n",
       "</table>\n",
       "</div>"
      ],
      "text/plain": [
       "         CustomerID      Recency    Frequency     Monetary            R  \\\n",
       "count   1065.000000  1065.000000  1065.000000  1065.000000  1065.000000   \n",
       "mean   15608.415023    28.242254     3.116432   834.253251     1.430986   \n",
       "std     1577.888369    20.335843     1.624403   536.992101     0.497340   \n",
       "min    12822.000000     1.000000     1.000000    49.800000     1.000000   \n",
       "25%    14289.000000    12.000000     2.000000   423.800000     1.000000   \n",
       "50%    15594.000000    24.000000     3.000000   741.920000     1.000000   \n",
       "75%    16969.000000    39.000000     4.000000  1114.720000     2.000000   \n",
       "max    18282.000000   100.000000    14.000000  3861.000000     3.000000   \n",
       "\n",
       "                 F            M     RFMScore  Cluster  \n",
       "count  1065.000000  1065.000000  1065.000000   1065.0  \n",
       "mean      2.794366     2.723944     6.949296      0.0  \n",
       "std       0.689588     0.741391     1.372824      0.0  \n",
       "min       1.000000     1.000000     4.000000      0.0  \n",
       "25%       2.000000     2.000000     6.000000      0.0  \n",
       "50%       3.000000     3.000000     7.000000      0.0  \n",
       "75%       3.000000     3.000000     8.000000      0.0  \n",
       "max       4.000000     4.000000    10.000000      0.0  "
      ]
     },
     "execution_count": 48,
     "metadata": {},
     "output_type": "execute_result"
    }
   ],
   "source": [
    "rfm[rfm['Cluster']==0].describe()"
   ]
  },
  {
   "cell_type": "code",
   "execution_count": 49,
   "id": "d92a437b",
   "metadata": {
    "execution": {
     "iopub.execute_input": "2022-05-26T15:25:07.005243Z",
     "iopub.status.busy": "2022-05-26T15:25:07.004981Z",
     "iopub.status.idle": "2022-05-26T15:25:07.038664Z",
     "shell.execute_reply": "2022-05-26T15:25:07.037777Z"
    },
    "papermill": {
     "duration": 0.105589,
     "end_time": "2022-05-26T15:25:07.041187",
     "exception": false,
     "start_time": "2022-05-26T15:25:06.935598",
     "status": "completed"
    },
    "tags": []
   },
   "outputs": [
    {
     "data": {
      "text/html": [
       "<div>\n",
       "<style scoped>\n",
       "    .dataframe tbody tr th:only-of-type {\n",
       "        vertical-align: middle;\n",
       "    }\n",
       "\n",
       "    .dataframe tbody tr th {\n",
       "        vertical-align: top;\n",
       "    }\n",
       "\n",
       "    .dataframe thead th {\n",
       "        text-align: right;\n",
       "    }\n",
       "</style>\n",
       "<table border=\"1\" class=\"dataframe\">\n",
       "  <thead>\n",
       "    <tr style=\"text-align: right;\">\n",
       "      <th></th>\n",
       "      <th>CustomerID</th>\n",
       "      <th>Recency</th>\n",
       "      <th>Frequency</th>\n",
       "      <th>Monetary</th>\n",
       "      <th>R</th>\n",
       "      <th>F</th>\n",
       "      <th>M</th>\n",
       "      <th>RFMScore</th>\n",
       "      <th>Cluster</th>\n",
       "    </tr>\n",
       "  </thead>\n",
       "  <tbody>\n",
       "    <tr>\n",
       "      <th>count</th>\n",
       "      <td>1096.000000</td>\n",
       "      <td>1096.000000</td>\n",
       "      <td>1096.000000</td>\n",
       "      <td>1096.000000</td>\n",
       "      <td>1096.000000</td>\n",
       "      <td>1096.000000</td>\n",
       "      <td>1096.000000</td>\n",
       "      <td>1096.000000</td>\n",
       "      <td>1096.0</td>\n",
       "    </tr>\n",
       "    <tr>\n",
       "      <th>mean</th>\n",
       "      <td>15536.403285</td>\n",
       "      <td>27.199818</td>\n",
       "      <td>18.940693</td>\n",
       "      <td>9795.972224</td>\n",
       "      <td>1.365876</td>\n",
       "      <td>1.115876</td>\n",
       "      <td>1.101277</td>\n",
       "      <td>3.583029</td>\n",
       "      <td>1.0</td>\n",
       "    </tr>\n",
       "    <tr>\n",
       "      <th>std</th>\n",
       "      <td>1580.386455</td>\n",
       "      <td>39.892266</td>\n",
       "      <td>21.869667</td>\n",
       "      <td>25352.296373</td>\n",
       "      <td>0.555819</td>\n",
       "      <td>0.325876</td>\n",
       "      <td>0.301833</td>\n",
       "      <td>0.688088</td>\n",
       "      <td>0.0</td>\n",
       "    </tr>\n",
       "    <tr>\n",
       "      <th>min</th>\n",
       "      <td>12346.000000</td>\n",
       "      <td>1.000000</td>\n",
       "      <td>2.000000</td>\n",
       "      <td>862.420000</td>\n",
       "      <td>1.000000</td>\n",
       "      <td>1.000000</td>\n",
       "      <td>1.000000</td>\n",
       "      <td>3.000000</td>\n",
       "      <td>1.0</td>\n",
       "    </tr>\n",
       "    <tr>\n",
       "      <th>25%</th>\n",
       "      <td>14186.750000</td>\n",
       "      <td>6.000000</td>\n",
       "      <td>9.000000</td>\n",
       "      <td>3049.715000</td>\n",
       "      <td>1.000000</td>\n",
       "      <td>1.000000</td>\n",
       "      <td>1.000000</td>\n",
       "      <td>3.000000</td>\n",
       "      <td>1.0</td>\n",
       "    </tr>\n",
       "    <tr>\n",
       "      <th>50%</th>\n",
       "      <td>15552.500000</td>\n",
       "      <td>17.000000</td>\n",
       "      <td>13.000000</td>\n",
       "      <td>4858.995000</td>\n",
       "      <td>1.000000</td>\n",
       "      <td>1.000000</td>\n",
       "      <td>1.000000</td>\n",
       "      <td>3.000000</td>\n",
       "      <td>1.0</td>\n",
       "    </tr>\n",
       "    <tr>\n",
       "      <th>75%</th>\n",
       "      <td>16924.250000</td>\n",
       "      <td>32.000000</td>\n",
       "      <td>20.000000</td>\n",
       "      <td>8669.942500</td>\n",
       "      <td>2.000000</td>\n",
       "      <td>1.000000</td>\n",
       "      <td>1.000000</td>\n",
       "      <td>4.000000</td>\n",
       "      <td>1.0</td>\n",
       "    </tr>\n",
       "    <tr>\n",
       "      <th>max</th>\n",
       "      <td>18287.000000</td>\n",
       "      <td>498.000000</td>\n",
       "      <td>336.000000</td>\n",
       "      <td>608821.650000</td>\n",
       "      <td>4.000000</td>\n",
       "      <td>3.000000</td>\n",
       "      <td>2.000000</td>\n",
       "      <td>6.000000</td>\n",
       "      <td>1.0</td>\n",
       "    </tr>\n",
       "  </tbody>\n",
       "</table>\n",
       "</div>"
      ],
      "text/plain": [
       "         CustomerID      Recency    Frequency       Monetary            R  \\\n",
       "count   1096.000000  1096.000000  1096.000000    1096.000000  1096.000000   \n",
       "mean   15536.403285    27.199818    18.940693    9795.972224     1.365876   \n",
       "std     1580.386455    39.892266    21.869667   25352.296373     0.555819   \n",
       "min    12346.000000     1.000000     2.000000     862.420000     1.000000   \n",
       "25%    14186.750000     6.000000     9.000000    3049.715000     1.000000   \n",
       "50%    15552.500000    17.000000    13.000000    4858.995000     1.000000   \n",
       "75%    16924.250000    32.000000    20.000000    8669.942500     2.000000   \n",
       "max    18287.000000   498.000000   336.000000  608821.650000     4.000000   \n",
       "\n",
       "                 F            M     RFMScore  Cluster  \n",
       "count  1096.000000  1096.000000  1096.000000   1096.0  \n",
       "mean      1.115876     1.101277     3.583029      1.0  \n",
       "std       0.325876     0.301833     0.688088      0.0  \n",
       "min       1.000000     1.000000     3.000000      1.0  \n",
       "25%       1.000000     1.000000     3.000000      1.0  \n",
       "50%       1.000000     1.000000     3.000000      1.0  \n",
       "75%       1.000000     1.000000     4.000000      1.0  \n",
       "max       3.000000     2.000000     6.000000      1.0  "
      ]
     },
     "execution_count": 49,
     "metadata": {},
     "output_type": "execute_result"
    }
   ],
   "source": [
    "rfm[rfm['Cluster']==1].describe()"
   ]
  },
  {
   "cell_type": "code",
   "execution_count": 50,
   "id": "6c6ed72d",
   "metadata": {
    "execution": {
     "iopub.execute_input": "2022-05-26T15:25:07.179728Z",
     "iopub.status.busy": "2022-05-26T15:25:07.179441Z",
     "iopub.status.idle": "2022-05-26T15:25:07.213925Z",
     "shell.execute_reply": "2022-05-26T15:25:07.213104Z"
    },
    "papermill": {
     "duration": 0.106115,
     "end_time": "2022-05-26T15:25:07.215968",
     "exception": false,
     "start_time": "2022-05-26T15:25:07.109853",
     "status": "completed"
    },
    "tags": []
   },
   "outputs": [
    {
     "data": {
      "text/html": [
       "<div>\n",
       "<style scoped>\n",
       "    .dataframe tbody tr th:only-of-type {\n",
       "        vertical-align: middle;\n",
       "    }\n",
       "\n",
       "    .dataframe tbody tr th {\n",
       "        vertical-align: top;\n",
       "    }\n",
       "\n",
       "    .dataframe thead th {\n",
       "        text-align: right;\n",
       "    }\n",
       "</style>\n",
       "<table border=\"1\" class=\"dataframe\">\n",
       "  <thead>\n",
       "    <tr style=\"text-align: right;\">\n",
       "      <th></th>\n",
       "      <th>CustomerID</th>\n",
       "      <th>Recency</th>\n",
       "      <th>Frequency</th>\n",
       "      <th>Monetary</th>\n",
       "      <th>R</th>\n",
       "      <th>F</th>\n",
       "      <th>M</th>\n",
       "      <th>RFMScore</th>\n",
       "      <th>Cluster</th>\n",
       "    </tr>\n",
       "  </thead>\n",
       "  <tbody>\n",
       "    <tr>\n",
       "      <th>count</th>\n",
       "      <td>1387.000000</td>\n",
       "      <td>1387.000000</td>\n",
       "      <td>1387.000000</td>\n",
       "      <td>1387.000000</td>\n",
       "      <td>1387.000000</td>\n",
       "      <td>1387.000000</td>\n",
       "      <td>1387.000000</td>\n",
       "      <td>1387.000000</td>\n",
       "      <td>1387.0</td>\n",
       "    </tr>\n",
       "    <tr>\n",
       "      <th>mean</th>\n",
       "      <td>15499.600577</td>\n",
       "      <td>234.297765</td>\n",
       "      <td>5.116078</td>\n",
       "      <td>1832.947006</td>\n",
       "      <td>2.955299</td>\n",
       "      <td>2.163663</td>\n",
       "      <td>1.974766</td>\n",
       "      <td>7.093727</td>\n",
       "      <td>2.0</td>\n",
       "    </tr>\n",
       "    <tr>\n",
       "      <th>std</th>\n",
       "      <td>1562.881183</td>\n",
       "      <td>156.776737</td>\n",
       "      <td>2.679126</td>\n",
       "      <td>2114.348357</td>\n",
       "      <td>0.691751</td>\n",
       "      <td>0.677322</td>\n",
       "      <td>0.681712</td>\n",
       "      <td>1.454905</td>\n",
       "      <td>0.0</td>\n",
       "    </tr>\n",
       "    <tr>\n",
       "      <th>min</th>\n",
       "      <td>12831.000000</td>\n",
       "      <td>32.000000</td>\n",
       "      <td>1.000000</td>\n",
       "      <td>167.420000</td>\n",
       "      <td>2.000000</td>\n",
       "      <td>1.000000</td>\n",
       "      <td>1.000000</td>\n",
       "      <td>4.000000</td>\n",
       "      <td>2.0</td>\n",
       "    </tr>\n",
       "    <tr>\n",
       "      <th>25%</th>\n",
       "      <td>14139.000000</td>\n",
       "      <td>95.000000</td>\n",
       "      <td>3.000000</td>\n",
       "      <td>920.445000</td>\n",
       "      <td>2.000000</td>\n",
       "      <td>2.000000</td>\n",
       "      <td>2.000000</td>\n",
       "      <td>6.000000</td>\n",
       "      <td>2.0</td>\n",
       "    </tr>\n",
       "    <tr>\n",
       "      <th>50%</th>\n",
       "      <td>15542.000000</td>\n",
       "      <td>190.000000</td>\n",
       "      <td>4.000000</td>\n",
       "      <td>1388.410000</td>\n",
       "      <td>3.000000</td>\n",
       "      <td>2.000000</td>\n",
       "      <td>2.000000</td>\n",
       "      <td>7.000000</td>\n",
       "      <td>2.0</td>\n",
       "    </tr>\n",
       "    <tr>\n",
       "      <th>75%</th>\n",
       "      <td>16808.500000</td>\n",
       "      <td>374.000000</td>\n",
       "      <td>6.000000</td>\n",
       "      <td>2150.020000</td>\n",
       "      <td>3.000000</td>\n",
       "      <td>3.000000</td>\n",
       "      <td>2.000000</td>\n",
       "      <td>8.000000</td>\n",
       "      <td>2.0</td>\n",
       "    </tr>\n",
       "    <tr>\n",
       "      <th>max</th>\n",
       "      <td>18286.000000</td>\n",
       "      <td>739.000000</td>\n",
       "      <td>20.000000</td>\n",
       "      <td>44534.300000</td>\n",
       "      <td>4.000000</td>\n",
       "      <td>4.000000</td>\n",
       "      <td>4.000000</td>\n",
       "      <td>10.000000</td>\n",
       "      <td>2.0</td>\n",
       "    </tr>\n",
       "  </tbody>\n",
       "</table>\n",
       "</div>"
      ],
      "text/plain": [
       "         CustomerID      Recency    Frequency      Monetary            R  \\\n",
       "count   1387.000000  1387.000000  1387.000000   1387.000000  1387.000000   \n",
       "mean   15499.600577   234.297765     5.116078   1832.947006     2.955299   \n",
       "std     1562.881183   156.776737     2.679126   2114.348357     0.691751   \n",
       "min    12831.000000    32.000000     1.000000    167.420000     2.000000   \n",
       "25%    14139.000000    95.000000     3.000000    920.445000     2.000000   \n",
       "50%    15542.000000   190.000000     4.000000   1388.410000     3.000000   \n",
       "75%    16808.500000   374.000000     6.000000   2150.020000     3.000000   \n",
       "max    18286.000000   739.000000    20.000000  44534.300000     4.000000   \n",
       "\n",
       "                 F            M     RFMScore  Cluster  \n",
       "count  1387.000000  1387.000000  1387.000000   1387.0  \n",
       "mean      2.163663     1.974766     7.093727      2.0  \n",
       "std       0.677322     0.681712     1.454905      0.0  \n",
       "min       1.000000     1.000000     4.000000      2.0  \n",
       "25%       2.000000     2.000000     6.000000      2.0  \n",
       "50%       2.000000     2.000000     7.000000      2.0  \n",
       "75%       3.000000     2.000000     8.000000      2.0  \n",
       "max       4.000000     4.000000    10.000000      2.0  "
      ]
     },
     "execution_count": 50,
     "metadata": {},
     "output_type": "execute_result"
    }
   ],
   "source": [
    "rfm[rfm['Cluster']==2].describe()"
   ]
  },
  {
   "cell_type": "code",
   "execution_count": 51,
   "id": "2c39b680",
   "metadata": {
    "execution": {
     "iopub.execute_input": "2022-05-26T15:25:07.355734Z",
     "iopub.status.busy": "2022-05-26T15:25:07.355434Z",
     "iopub.status.idle": "2022-05-26T15:25:07.389250Z",
     "shell.execute_reply": "2022-05-26T15:25:07.388519Z"
    },
    "papermill": {
     "duration": 0.106192,
     "end_time": "2022-05-26T15:25:07.391163",
     "exception": false,
     "start_time": "2022-05-26T15:25:07.284971",
     "status": "completed"
    },
    "tags": []
   },
   "outputs": [
    {
     "data": {
      "text/html": [
       "<div>\n",
       "<style scoped>\n",
       "    .dataframe tbody tr th:only-of-type {\n",
       "        vertical-align: middle;\n",
       "    }\n",
       "\n",
       "    .dataframe tbody tr th {\n",
       "        vertical-align: top;\n",
       "    }\n",
       "\n",
       "    .dataframe thead th {\n",
       "        text-align: right;\n",
       "    }\n",
       "</style>\n",
       "<table border=\"1\" class=\"dataframe\">\n",
       "  <thead>\n",
       "    <tr style=\"text-align: right;\">\n",
       "      <th></th>\n",
       "      <th>CustomerID</th>\n",
       "      <th>Recency</th>\n",
       "      <th>Frequency</th>\n",
       "      <th>Monetary</th>\n",
       "      <th>R</th>\n",
       "      <th>F</th>\n",
       "      <th>M</th>\n",
       "      <th>RFMScore</th>\n",
       "      <th>Cluster</th>\n",
       "    </tr>\n",
       "  </thead>\n",
       "  <tbody>\n",
       "    <tr>\n",
       "      <th>count</th>\n",
       "      <td>1802.000000</td>\n",
       "      <td>1802.000000</td>\n",
       "      <td>1802.000000</td>\n",
       "      <td>1802.000000</td>\n",
       "      <td>1802.000000</td>\n",
       "      <td>1802.000000</td>\n",
       "      <td>1802.000000</td>\n",
       "      <td>1802.000000</td>\n",
       "      <td>1802.0</td>\n",
       "    </tr>\n",
       "    <tr>\n",
       "      <th>mean</th>\n",
       "      <td>15584.397336</td>\n",
       "      <td>390.739179</td>\n",
       "      <td>1.313541</td>\n",
       "      <td>308.537598</td>\n",
       "      <td>3.462819</td>\n",
       "      <td>3.723085</td>\n",
       "      <td>3.622642</td>\n",
       "      <td>10.808546</td>\n",
       "      <td>3.0</td>\n",
       "    </tr>\n",
       "    <tr>\n",
       "      <th>std</th>\n",
       "      <td>1597.171953</td>\n",
       "      <td>194.760217</td>\n",
       "      <td>0.549519</td>\n",
       "      <td>224.240691</td>\n",
       "      <td>0.682944</td>\n",
       "      <td>0.454980</td>\n",
       "      <td>0.531828</td>\n",
       "      <td>1.017053</td>\n",
       "      <td>0.0</td>\n",
       "    </tr>\n",
       "    <tr>\n",
       "      <th>min</th>\n",
       "      <td>12608.000000</td>\n",
       "      <td>19.000000</td>\n",
       "      <td>1.000000</td>\n",
       "      <td>2.950000</td>\n",
       "      <td>1.000000</td>\n",
       "      <td>2.000000</td>\n",
       "      <td>2.000000</td>\n",
       "      <td>8.000000</td>\n",
       "      <td>3.0</td>\n",
       "    </tr>\n",
       "    <tr>\n",
       "      <th>25%</th>\n",
       "      <td>14200.750000</td>\n",
       "      <td>240.000000</td>\n",
       "      <td>1.000000</td>\n",
       "      <td>152.400000</td>\n",
       "      <td>3.000000</td>\n",
       "      <td>3.000000</td>\n",
       "      <td>3.000000</td>\n",
       "      <td>10.000000</td>\n",
       "      <td>3.0</td>\n",
       "    </tr>\n",
       "    <tr>\n",
       "      <th>50%</th>\n",
       "      <td>15565.000000</td>\n",
       "      <td>402.000000</td>\n",
       "      <td>1.000000</td>\n",
       "      <td>258.895000</td>\n",
       "      <td>4.000000</td>\n",
       "      <td>4.000000</td>\n",
       "      <td>4.000000</td>\n",
       "      <td>11.000000</td>\n",
       "      <td>3.0</td>\n",
       "    </tr>\n",
       "    <tr>\n",
       "      <th>75%</th>\n",
       "      <td>16972.750000</td>\n",
       "      <td>547.000000</td>\n",
       "      <td>2.000000</td>\n",
       "      <td>403.220000</td>\n",
       "      <td>4.000000</td>\n",
       "      <td>4.000000</td>\n",
       "      <td>4.000000</td>\n",
       "      <td>12.000000</td>\n",
       "      <td>3.0</td>\n",
       "    </tr>\n",
       "    <tr>\n",
       "      <th>max</th>\n",
       "      <td>18285.000000</td>\n",
       "      <td>739.000000</td>\n",
       "      <td>4.000000</td>\n",
       "      <td>2135.460000</td>\n",
       "      <td>4.000000</td>\n",
       "      <td>4.000000</td>\n",
       "      <td>4.000000</td>\n",
       "      <td>12.000000</td>\n",
       "      <td>3.0</td>\n",
       "    </tr>\n",
       "  </tbody>\n",
       "</table>\n",
       "</div>"
      ],
      "text/plain": [
       "         CustomerID      Recency    Frequency     Monetary            R  \\\n",
       "count   1802.000000  1802.000000  1802.000000  1802.000000  1802.000000   \n",
       "mean   15584.397336   390.739179     1.313541   308.537598     3.462819   \n",
       "std     1597.171953   194.760217     0.549519   224.240691     0.682944   \n",
       "min    12608.000000    19.000000     1.000000     2.950000     1.000000   \n",
       "25%    14200.750000   240.000000     1.000000   152.400000     3.000000   \n",
       "50%    15565.000000   402.000000     1.000000   258.895000     4.000000   \n",
       "75%    16972.750000   547.000000     2.000000   403.220000     4.000000   \n",
       "max    18285.000000   739.000000     4.000000  2135.460000     4.000000   \n",
       "\n",
       "                 F            M     RFMScore  Cluster  \n",
       "count  1802.000000  1802.000000  1802.000000   1802.0  \n",
       "mean      3.723085     3.622642    10.808546      3.0  \n",
       "std       0.454980     0.531828     1.017053      0.0  \n",
       "min       2.000000     2.000000     8.000000      3.0  \n",
       "25%       3.000000     3.000000    10.000000      3.0  \n",
       "50%       4.000000     4.000000    11.000000      3.0  \n",
       "75%       4.000000     4.000000    12.000000      3.0  \n",
       "max       4.000000     4.000000    12.000000      3.0  "
      ]
     },
     "execution_count": 51,
     "metadata": {},
     "output_type": "execute_result"
    }
   ],
   "source": [
    "rfm[rfm['Cluster']==3].describe()"
   ]
  },
  {
   "cell_type": "code",
   "execution_count": 52,
   "id": "2ccacd92",
   "metadata": {
    "execution": {
     "iopub.execute_input": "2022-05-26T15:25:07.531169Z",
     "iopub.status.busy": "2022-05-26T15:25:07.530906Z",
     "iopub.status.idle": "2022-05-26T15:25:07.865648Z",
     "shell.execute_reply": "2022-05-26T15:25:07.864764Z"
    },
    "papermill": {
     "duration": 0.407101,
     "end_time": "2022-05-26T15:25:07.867472",
     "exception": false,
     "start_time": "2022-05-26T15:25:07.460371",
     "status": "completed"
    },
    "tags": []
   },
   "outputs": [
    {
     "data": {
      "text/plain": [
       "<Figure size 504x504 with 0 Axes>"
      ]
     },
     "metadata": {},
     "output_type": "display_data"
    },
    {
     "data": {
      "image/png": "[encoded data removed]",
      "text/plain": [
       "<Figure size 720x576 with 1 Axes>"
      ]
     },
     "metadata": {
      "needs_background": "light"
     },
     "output_type": "display_data"
    }
   ],
   "source": [
    "plt.figure(figsize=(7,7))\n",
    "\n",
    "##Scatter Plot Frequency Vs Recency\n",
    "Colors = [\"red\", \"green\", \"blue\", \"yellow\"]\n",
    "rfm['Color'] = rfm['Cluster'].map(lambda p: Colors[p])\n",
    "ax = rfm.plot(    \n",
    "    kind=\"scatter\", \n",
    "    x=\"Recency\", y=\"Frequency\",\n",
    "    figsize=(10,8),\n",
    "    c = rfm['Color']\n",
    ")"
   ]
  },
  {
   "cell_type": "code",
   "execution_count": 53,
   "id": "7f199d02",
   "metadata": {
    "execution": {
     "iopub.execute_input": "2022-05-26T15:25:08.018983Z",
     "iopub.status.busy": "2022-05-26T15:25:08.018701Z",
     "iopub.status.idle": "2022-05-26T15:25:08.025920Z",
     "shell.execute_reply": "2022-05-26T15:25:08.025357Z"
    },
    "papermill": {
     "duration": 0.08955,
     "end_time": "2022-05-26T15:25:08.027463",
     "exception": false,
     "start_time": "2022-05-26T15:25:07.937913",
     "status": "completed"
    },
    "tags": []
   },
   "outputs": [
    {
     "data": {
      "text/plain": [
       "Gold        1603\n",
       "Platinum    1524\n",
       "Silver      1120\n",
       "Bronze      1103\n",
       "Name: RFM_Loyalty_Level, dtype: int64"
      ]
     },
     "execution_count": 53,
     "metadata": {},
     "output_type": "execute_result"
    }
   ],
   "source": [
    "rfm['RFM_Loyalty_Level'].value_counts()"
   ]
  },
  {
   "cell_type": "code",
   "execution_count": 54,
   "id": "9d40953f",
   "metadata": {
    "execution": {
     "iopub.execute_input": "2022-05-26T15:25:08.171823Z",
     "iopub.status.busy": "2022-05-26T15:25:08.171280Z",
     "iopub.status.idle": "2022-05-26T15:25:08.184229Z",
     "shell.execute_reply": "2022-05-26T15:25:08.183588Z"
    },
    "papermill": {
     "duration": 0.086835,
     "end_time": "2022-05-26T15:25:08.185981",
     "exception": false,
     "start_time": "2022-05-26T15:25:08.099146",
     "status": "completed"
    },
    "tags": []
   },
   "outputs": [
    {
     "data": {
      "text/html": [
       "<div>\n",
       "<style scoped>\n",
       "    .dataframe tbody tr th:only-of-type {\n",
       "        vertical-align: middle;\n",
       "    }\n",
       "\n",
       "    .dataframe tbody tr th {\n",
       "        vertical-align: top;\n",
       "    }\n",
       "\n",
       "    .dataframe thead th {\n",
       "        text-align: right;\n",
       "    }\n",
       "</style>\n",
       "<table border=\"1\" class=\"dataframe\">\n",
       "  <thead>\n",
       "    <tr style=\"text-align: right;\">\n",
       "      <th></th>\n",
       "      <th>CustomerID</th>\n",
       "      <th>Recency</th>\n",
       "      <th>Frequency</th>\n",
       "      <th>Monetary</th>\n",
       "      <th>R</th>\n",
       "      <th>F</th>\n",
       "      <th>M</th>\n",
       "      <th>RFMGroup</th>\n",
       "      <th>RFMScore</th>\n",
       "      <th>RFM_Loyalty_Level</th>\n",
       "      <th>Cluster</th>\n",
       "      <th>Color</th>\n",
       "    </tr>\n",
       "  </thead>\n",
       "  <tbody>\n",
       "    <tr>\n",
       "      <th>0</th>\n",
       "      <td>12346.0</td>\n",
       "      <td>326</td>\n",
       "      <td>12</td>\n",
       "      <td>77556.46</td>\n",
       "      <td>3</td>\n",
       "      <td>1</td>\n",
       "      <td>1</td>\n",
       "      <td>311</td>\n",
       "      <td>5</td>\n",
       "      <td>Platinum</td>\n",
       "      <td>1</td>\n",
       "      <td>green</td>\n",
       "    </tr>\n",
       "    <tr>\n",
       "      <th>1</th>\n",
       "      <td>12608.0</td>\n",
       "      <td>405</td>\n",
       "      <td>1</td>\n",
       "      <td>415.79</td>\n",
       "      <td>4</td>\n",
       "      <td>4</td>\n",
       "      <td>3</td>\n",
       "      <td>443</td>\n",
       "      <td>11</td>\n",
       "      <td>Bronze</td>\n",
       "      <td>3</td>\n",
       "      <td>yellow</td>\n",
       "    </tr>\n",
       "    <tr>\n",
       "      <th>2</th>\n",
       "      <td>12745.0</td>\n",
       "      <td>487</td>\n",
       "      <td>2</td>\n",
       "      <td>723.85</td>\n",
       "      <td>4</td>\n",
       "      <td>3</td>\n",
       "      <td>3</td>\n",
       "      <td>433</td>\n",
       "      <td>10</td>\n",
       "      <td>Silver</td>\n",
       "      <td>3</td>\n",
       "      <td>yellow</td>\n",
       "    </tr>\n",
       "    <tr>\n",
       "      <th>3</th>\n",
       "      <td>12746.0</td>\n",
       "      <td>541</td>\n",
       "      <td>1</td>\n",
       "      <td>254.55</td>\n",
       "      <td>4</td>\n",
       "      <td>4</td>\n",
       "      <td>4</td>\n",
       "      <td>444</td>\n",
       "      <td>12</td>\n",
       "      <td>Bronze</td>\n",
       "      <td>3</td>\n",
       "      <td>yellow</td>\n",
       "    </tr>\n",
       "    <tr>\n",
       "      <th>4</th>\n",
       "      <td>12747.0</td>\n",
       "      <td>3</td>\n",
       "      <td>26</td>\n",
       "      <td>9276.54</td>\n",
       "      <td>1</td>\n",
       "      <td>1</td>\n",
       "      <td>1</td>\n",
       "      <td>111</td>\n",
       "      <td>3</td>\n",
       "      <td>Platinum</td>\n",
       "      <td>1</td>\n",
       "      <td>green</td>\n",
       "    </tr>\n",
       "  </tbody>\n",
       "</table>\n",
       "</div>"
      ],
      "text/plain": [
       "   CustomerID  Recency  Frequency  Monetary  R  F  M RFMGroup  RFMScore  \\\n",
       "0     12346.0      326         12  77556.46  3  1  1      311         5   \n",
       "1     12608.0      405          1    415.79  4  4  3      443        11   \n",
       "2     12745.0      487          2    723.85  4  3  3      433        10   \n",
       "3     12746.0      541          1    254.55  4  4  4      444        12   \n",
       "4     12747.0        3         26   9276.54  1  1  1      111         3   \n",
       "\n",
       "  RFM_Loyalty_Level  Cluster   Color  \n",
       "0          Platinum        1   green  \n",
       "1            Bronze        3  yellow  \n",
       "2            Silver        3  yellow  \n",
       "3            Bronze        3  yellow  \n",
       "4          Platinum        1   green  "
      ]
     },
     "execution_count": 54,
     "metadata": {},
     "output_type": "execute_result"
    }
   ],
   "source": [
    "rfm.head()"
   ]
  }
 ],
 "metadata": {
  "kernelspec": {
   "display_name": "Python 3",
   "language": "python",
   "name": "python3"
  },
  "language_info": {
   "codemirror_mode": {
    "name": "ipython",
    "version": 3
   },
   "file_extension": ".py",
   "mimetype": "text/x-python",
   "name": "python",
   "nbconvert_exporter": "python",
   "pygments_lexer": "ipython3",
   "version": "3.7.12"
  },
  "papermill": {
   "default_parameters": {},
   "duration": 38.849556,
   "end_time": "2022-05-26T15:25:09.078095",
   "environment_variables": {},
   "exception": null,
   "input_path": "__notebook__.ipynb",
   "output_path": "__notebook__.ipynb",
   "parameters": {},
   "start_time": "2022-05-26T15:24:30.228539",
   "version": "2.3.4"
  }
 },
 "nbformat": 4,
 "nbformat_minor": 5
}
